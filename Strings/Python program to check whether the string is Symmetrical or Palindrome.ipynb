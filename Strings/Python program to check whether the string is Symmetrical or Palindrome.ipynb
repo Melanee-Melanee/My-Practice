{
 "cells": [
  {
   "cell_type": "markdown",
   "id": "04001fa2",
   "metadata": {},
   "source": [
    "# Python program to check whether the string is Symmetrical or Palindrome"
   ]
  },
  {
   "cell_type": "markdown",
   "id": "6ec857aa",
   "metadata": {},
   "source": [
    "## Approach 1"
   ]
  },
  {
   "cell_type": "code",
   "execution_count": 1,
   "id": "b16e2071",
   "metadata": {},
   "outputs": [
    {
     "name": "stdout",
     "output_type": "stream",
     "text": [
      "The entered string is palindrome\n",
      "The entered string is symmetrical\n"
     ]
    }
   ],
   "source": [
    "# Python program to demonstrate\n",
    "# symmetry and palindrome of the\n",
    "# string\n",
    "\n",
    "\n",
    "# Function to check whether the\n",
    "# string is palindrome or not\n",
    "def palindrome(a):\n",
    "\n",
    "    # finding the mid, start\n",
    "    # and last index of the string\n",
    "    mid = (len(a)-1)//2  # you can remove the -1 or you add <= sign in line 21\n",
    "    start = 0  # so that you can compare the middle elements also.\n",
    "    last = len(a)-1\n",
    "    flag = 0\n",
    "\n",
    "    # A loop till the mid of the\n",
    "    # string\n",
    "    while(start <= mid):\n",
    "\n",
    "        # comparing letters from right\n",
    "        # from the letters from left\n",
    "        if (a[start] == a[last]):\n",
    "\n",
    "            start += 1\n",
    "            last -= 1\n",
    "\n",
    "        else:\n",
    "            flag = 1\n",
    "            break\n",
    "\n",
    "    # Checking the flag variable to\n",
    "    # check if the string is palindrome\n",
    "    # or not\n",
    "    if flag == 0:\n",
    "        print(\"The entered string is palindrome\")\n",
    "    else:\n",
    "        print(\"The entered string is not palindrome\")\n",
    "\n",
    "# Function to check whether the\n",
    "# string is symmetrical or not\n",
    "\n",
    "\n",
    "def symmetry(a):\n",
    "\n",
    "    n = len(a)\n",
    "    flag = 0\n",
    "\n",
    "    # Check if the string's length\n",
    "    # is odd or even\n",
    "    if n % 2:\n",
    "        mid = n//2 + 1\n",
    "    else:\n",
    "        mid = n//2\n",
    "\n",
    "    start1 = 0\n",
    "    start2 = mid\n",
    "\n",
    "    while(start1 < mid and start2 < n):\n",
    "\n",
    "        if (a[start1] == a[start2]):\n",
    "            start1 = start1 + 1\n",
    "            start2 = start2 + 1\n",
    "        else:\n",
    "            flag = 1\n",
    "            break\n",
    "\n",
    "    # Checking the flag variable to\n",
    "    # check if the string is symmetrical\n",
    "    # or not\n",
    "    if flag == 0:\n",
    "        print(\"The entered string is symmetrical\")\n",
    "    else:\n",
    "        print(\"The entered string is not symmetrical\")\n",
    "\n",
    "\n",
    "# Driver code\n",
    "string = 'amaama'\n",
    "palindrome(string)\n",
    "symmetry(string)\n"
   ]
  },
  {
   "cell_type": "markdown",
   "id": "69e742d5",
   "metadata": {},
   "source": [
    "## Approach 2"
   ]
  },
  {
   "cell_type": "code",
   "execution_count": 3,
   "id": "36dc9a2d",
   "metadata": {},
   "outputs": [
    {
     "name": "stdout",
     "output_type": "stream",
     "text": [
      "amaama string is symmetrical\n",
      "amaama string is palindrome\n"
     ]
    }
   ],
   "source": [
    "string = 'amaama'\n",
    "half = int(len(string) / 2)\n",
    "\n",
    "\n",
    "first_str = string[:half]\n",
    "second_str = string[half:]\n",
    "\n",
    "\n",
    "# symmetric\n",
    "if first_str == second_str:\n",
    "    print(string, 'string is symmetrical')\n",
    "else:\n",
    "    print(string, 'string is not symmetrical')\n",
    "\n",
    "# palindrome\n",
    "if first_str == second_str[::-1]:  # ''.join(reversed(second_str)) [slower]\n",
    "    print(string, 'string is palindrome')\n",
    "else:\n",
    "    print(string, 'string is not palindrome')\n"
   ]
  },
  {
   "cell_type": "markdown",
   "id": "70dba2c1",
   "metadata": {},
   "source": [
    "## Approach 3"
   ]
  },
  {
   "cell_type": "code",
   "execution_count": 4,
   "id": "b5e0f39e",
   "metadata": {},
   "outputs": [
    {
     "name": "stdout",
     "output_type": "stream",
     "text": [
      "The entered string is symmetrical\n",
      "The entered string is palindrome\n"
     ]
    }
   ],
   "source": [
    "# Python program to check whether the string is Symmetrical or Palindrome\n",
    "\n",
    "import re\n",
    "\n",
    "input_str = \"amaama\"\n",
    "reversed_str = input_str[::-1]\n",
    "\n",
    "if input_str == reversed_str:\n",
    "    print(\"The entered string is symmetrical\")\n",
    "else:\n",
    "    print(\"The entered string is not symmetrical\")\n",
    "\n",
    "if re.match(\"^(\\w+)\\Z\", input_str) and input_str == input_str[::-1]:\n",
    "    print(\"The entered string is palindrome\")\n",
    "else:\n",
    "    print(\"The entered string is not palindrome\")\n"
   ]
  },
  {
   "cell_type": "markdown",
   "id": "3c51217d",
   "metadata": {},
   "source": [
    "## Approach 4"
   ]
  },
  {
   "cell_type": "code",
   "execution_count": 5,
   "id": "3e8b46ed",
   "metadata": {},
   "outputs": [
    {
     "name": "stdout",
     "output_type": "stream",
     "text": [
      "the string is palindrome\n"
     ]
    }
   ],
   "source": [
    "string = \"malayalam\"\n",
    "print(\"the string is palindrome\" if string == ''.join(\n",
    "    reversed(string)) else \"the string is not palindrome\")\n"
   ]
  },
  {
   "cell_type": "code",
   "execution_count": null,
   "id": "d3ffaa13",
   "metadata": {},
   "outputs": [],
   "source": []
  }
 ],
 "metadata": {
  "celltoolbar": "Raw Cell Format",
  "kernelspec": {
   "display_name": "Python 3 (ipykernel)",
   "language": "python",
   "name": "python3"
  },
  "language_info": {
   "codemirror_mode": {
    "name": "ipython",
    "version": 3
   },
   "file_extension": ".py",
   "mimetype": "text/x-python",
   "name": "python",
   "nbconvert_exporter": "python",
   "pygments_lexer": "ipython3",
   "version": "3.10.12"
  },
  "toc": {
   "base_numbering": 1,
   "nav_menu": {},
   "number_sections": true,
   "sideBar": true,
   "skip_h1_title": false,
   "title_cell": "Table of Contents",
   "title_sidebar": "Contents",
   "toc_cell": false,
   "toc_position": {},
   "toc_section_display": true,
   "toc_window_display": false
  },
  "varInspector": {
   "cols": {
    "lenName": 16,
    "lenType": 16,
    "lenVar": 40
   },
   "kernels_config": {
    "python": {
     "delete_cmd_postfix": "",
     "delete_cmd_prefix": "del ",
     "library": "var_list.py",
     "varRefreshCmd": "print(var_dic_list())"
    },
    "r": {
     "delete_cmd_postfix": ") ",
     "delete_cmd_prefix": "rm(",
     "library": "var_list.r",
     "varRefreshCmd": "cat(var_dic_list()) "
    }
   },
   "types_to_exclude": [
    "module",
    "function",
    "builtin_function_or_method",
    "instance",
    "_Feature"
   ],
   "window_display": false
  }
 },
 "nbformat": 4,
 "nbformat_minor": 5
}
