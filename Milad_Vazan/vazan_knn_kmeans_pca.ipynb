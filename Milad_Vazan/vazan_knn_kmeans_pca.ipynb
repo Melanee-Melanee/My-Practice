{
  "cells": [
    {
      "cell_type": "markdown",
      "metadata": {
        "id": "view-in-github",
        "colab_type": "text"
      },
      "source": [
        "<a href=\"https://colab.research.google.com/github/Melanee-Melanee/My-Practice/blob/main/Milad_Vazan/vazan_knn_kmeans_pca.ipynb\" target=\"_parent\"><img src=\"https://colab.research.google.com/assets/colab-badge.svg\" alt=\"Open In Colab\"/></a>"
      ]
    },
    {
      "cell_type": "code",
      "execution_count": null,
      "id": "a90682c7",
      "metadata": {
        "execution": {
          "iopub.execute_input": "2022-07-24T04:55:06.075385Z",
          "iopub.status.busy": "2022-07-24T04:55:06.074696Z",
          "iopub.status.idle": "2022-07-24T04:55:06.090990Z",
          "shell.execute_reply": "2022-07-24T04:55:06.089591Z"
        },
        "papermill": {
          "duration": 0.029299,
          "end_time": "2022-07-24T04:55:06.094231",
          "exception": false,
          "start_time": "2022-07-24T04:55:06.064932",
          "status": "completed"
        },
        "tags": [],
        "id": "a90682c7"
      },
      "outputs": [],
      "source": [
        "import numpy as np\n",
        "import matplotlib.pyplot as plt\n",
        "import pandas as pd"
      ]
    },
    {
      "cell_type": "code",
      "execution_count": null,
      "id": "e6fb4e1d",
      "metadata": {
        "execution": {
          "iopub.execute_input": "2022-07-24T04:55:06.108981Z",
          "iopub.status.busy": "2022-07-24T04:55:06.108532Z",
          "iopub.status.idle": "2022-07-24T04:55:06.201530Z",
          "shell.execute_reply": "2022-07-24T04:55:06.200064Z"
        },
        "papermill": {
          "duration": 0.103323,
          "end_time": "2022-07-24T04:55:06.203982",
          "exception": true,
          "start_time": "2022-07-24T04:55:06.100659",
          "status": "failed"
        },
        "tags": [],
        "id": "e6fb4e1d"
      },
      "outputs": [],
      "source": [
        "dataset = pd.read_csv('Iris.csv')"
      ]
    },
    {
      "cell_type": "code",
      "execution_count": null,
      "id": "e4c8c590",
      "metadata": {
        "papermill": {
          "duration": null,
          "end_time": null,
          "exception": null,
          "start_time": null,
          "status": "pending"
        },
        "scrolled": true,
        "tags": [],
        "id": "e4c8c590"
      },
      "outputs": [],
      "source": [
        "dataset.head(150)"
      ]
    },
    {
      "cell_type": "code",
      "execution_count": null,
      "id": "5cb15224",
      "metadata": {
        "papermill": {
          "duration": null,
          "end_time": null,
          "exception": null,
          "start_time": null,
          "status": "pending"
        },
        "tags": [],
        "id": "5cb15224"
      },
      "outputs": [],
      "source": [
        "from sklearn import datasets\n",
        "iris= datasets.load_iris()"
      ]
    },
    {
      "cell_type": "code",
      "execution_count": null,
      "id": "d6c2af1d",
      "metadata": {
        "papermill": {
          "duration": null,
          "end_time": null,
          "exception": null,
          "start_time": null,
          "status": "pending"
        },
        "tags": [],
        "id": "d6c2af1d"
      },
      "outputs": [],
      "source": [
        "X = iris.data\n",
        "y= iris.target"
      ]
    },
    {
      "cell_type": "code",
      "execution_count": null,
      "id": "94de2418",
      "metadata": {
        "papermill": {
          "duration": null,
          "end_time": null,
          "exception": null,
          "start_time": null,
          "status": "pending"
        },
        "tags": [],
        "id": "94de2418"
      },
      "outputs": [],
      "source": [
        "#X=dataset.iloc[:, :-1].values\n",
        "#y=dataset.iloc[:, 4].values"
      ]
    },
    {
      "cell_type": "code",
      "execution_count": null,
      "id": "ebeba7f8",
      "metadata": {
        "papermill": {
          "duration": null,
          "end_time": null,
          "exception": null,
          "start_time": null,
          "status": "pending"
        },
        "tags": [],
        "id": "ebeba7f8"
      },
      "outputs": [],
      "source": [
        "from sklearn.model_selection import train_test_split\n",
        "X_train, X_test, y_train, y_test  = train_test_split(X,y,test_size = 0.25, random_state=42)"
      ]
    },
    {
      "cell_type": "code",
      "execution_count": null,
      "id": "999756ba",
      "metadata": {
        "papermill": {
          "duration": null,
          "end_time": null,
          "exception": null,
          "start_time": null,
          "status": "pending"
        },
        "tags": [],
        "id": "999756ba"
      },
      "outputs": [],
      "source": [
        "X_train.shape"
      ]
    },
    {
      "cell_type": "code",
      "execution_count": null,
      "id": "a8c8ebb3",
      "metadata": {
        "papermill": {
          "duration": null,
          "end_time": null,
          "exception": null,
          "start_time": null,
          "status": "pending"
        },
        "tags": [],
        "id": "a8c8ebb3"
      },
      "outputs": [],
      "source": [
        "X_test.shape"
      ]
    },
    {
      "cell_type": "code",
      "execution_count": null,
      "id": "041c1ff3",
      "metadata": {
        "papermill": {
          "duration": null,
          "end_time": null,
          "exception": null,
          "start_time": null,
          "status": "pending"
        },
        "tags": [],
        "id": "041c1ff3"
      },
      "outputs": [],
      "source": [
        "from sklearn.preprocessing import StandardScaler \n",
        "scaler = StandardScaler()\n",
        "scaler.fit(X_train)\n",
        "\n",
        "\n",
        "X_train = scaler.transform(X_train)\n",
        "X_test= scaler.transform(X_test)"
      ]
    },
    {
      "cell_type": "markdown",
      "id": "28bb5458",
      "metadata": {
        "papermill": {
          "duration": null,
          "end_time": null,
          "exception": null,
          "start_time": null,
          "status": "pending"
        },
        "tags": [],
        "id": "28bb5458"
      },
      "source": [
        "# K-Nearest-Neighbor(KNN)"
      ]
    },
    {
      "cell_type": "code",
      "execution_count": null,
      "id": "9f8e5c26",
      "metadata": {
        "papermill": {
          "duration": null,
          "end_time": null,
          "exception": null,
          "start_time": null,
          "status": "pending"
        },
        "tags": [],
        "id": "9f8e5c26"
      },
      "outputs": [],
      "source": [
        "from sklearn.neighbors import KNeighborsClassifier\n",
        "classifier = KNeighborsClassifier(n_neighbors=5)\n",
        "classifier.fit(X_train, y_train)\n"
      ]
    },
    {
      "cell_type": "code",
      "execution_count": null,
      "id": "50076f52",
      "metadata": {
        "papermill": {
          "duration": null,
          "end_time": null,
          "exception": null,
          "start_time": null,
          "status": "pending"
        },
        "tags": [],
        "id": "50076f52"
      },
      "outputs": [],
      "source": [
        "y_pred = classifier.predict(X_test)"
      ]
    },
    {
      "cell_type": "code",
      "execution_count": null,
      "id": "6054454b",
      "metadata": {
        "papermill": {
          "duration": null,
          "end_time": null,
          "exception": null,
          "start_time": null,
          "status": "pending"
        },
        "tags": [],
        "id": "6054454b"
      },
      "outputs": [],
      "source": [
        "from sklearn.metrics import classification_report, confusion_matrix\n",
        "print(confusion_matrix(y_test, y_pred))\n",
        "print(classification_report(y_test, y_pred))"
      ]
    },
    {
      "cell_type": "markdown",
      "id": "7d842a23",
      "metadata": {
        "papermill": {
          "duration": null,
          "end_time": null,
          "exception": null,
          "start_time": null,
          "status": "pending"
        },
        "tags": [],
        "id": "7d842a23"
      },
      "source": [
        "# kmeans"
      ]
    },
    {
      "cell_type": "code",
      "execution_count": null,
      "id": "189a178d",
      "metadata": {
        "papermill": {
          "duration": null,
          "end_time": null,
          "exception": null,
          "start_time": null,
          "status": "pending"
        },
        "tags": [],
        "id": "189a178d"
      },
      "outputs": [],
      "source": [
        "X = np.array([[1,3],[11,16],[16,10],[20,10],[35,23],[30,45]])"
      ]
    },
    {
      "cell_type": "code",
      "execution_count": null,
      "id": "20f31f91",
      "metadata": {
        "papermill": {
          "duration": null,
          "end_time": null,
          "exception": null,
          "start_time": null,
          "status": "pending"
        },
        "tags": [],
        "id": "20f31f91"
      },
      "outputs": [],
      "source": [
        "plt.scatter(X[:,0],X[:,1], label='True Position', marker ='s')"
      ]
    },
    {
      "cell_type": "code",
      "execution_count": null,
      "id": "3176ded9",
      "metadata": {
        "papermill": {
          "duration": null,
          "end_time": null,
          "exception": null,
          "start_time": null,
          "status": "pending"
        },
        "tags": [],
        "id": "3176ded9"
      },
      "outputs": [],
      "source": [
        "from sklearn.cluster import KMeans\n",
        "kmeans=KMeans(n_clusters=2)\n",
        "kmeans.fit(X)"
      ]
    },
    {
      "cell_type": "code",
      "execution_count": null,
      "id": "943ce507",
      "metadata": {
        "papermill": {
          "duration": null,
          "end_time": null,
          "exception": null,
          "start_time": null,
          "status": "pending"
        },
        "tags": [],
        "id": "943ce507"
      },
      "outputs": [],
      "source": [
        "print(kmeans.cluster_centers_)"
      ]
    },
    {
      "cell_type": "code",
      "execution_count": null,
      "id": "588e8ce9",
      "metadata": {
        "papermill": {
          "duration": null,
          "end_time": null,
          "exception": null,
          "start_time": null,
          "status": "pending"
        },
        "tags": [],
        "id": "588e8ce9"
      },
      "outputs": [],
      "source": [
        "print(kmeans.labels_)"
      ]
    },
    {
      "cell_type": "markdown",
      "id": "3cd58b70",
      "metadata": {
        "papermill": {
          "duration": null,
          "end_time": null,
          "exception": null,
          "start_time": null,
          "status": "pending"
        },
        "tags": [],
        "id": "3cd58b70"
      },
      "source": [
        "# PCA"
      ]
    },
    {
      "cell_type": "code",
      "execution_count": null,
      "id": "f70dafba",
      "metadata": {
        "papermill": {
          "duration": null,
          "end_time": null,
          "exception": null,
          "start_time": null,
          "status": "pending"
        },
        "tags": [],
        "id": "f70dafba"
      },
      "outputs": [],
      "source": [
        "from sklearn.decomposition import PCA\n",
        "X = np.array([[4,11],[8,4],[13,5],[7,14]])\n",
        "X1=np.mean(X[:,0])\n",
        "X2=np.mean(X[:,1])\n",
        "pca=PCA(n_components=1)\n",
        "pca.fit(X)\n",
        "X_pca=pca.transform(X)\n"
      ]
    },
    {
      "cell_type": "code",
      "execution_count": null,
      "id": "51f2c4ba",
      "metadata": {
        "papermill": {
          "duration": null,
          "end_time": null,
          "exception": null,
          "start_time": null,
          "status": "pending"
        },
        "tags": [],
        "id": "51f2c4ba"
      },
      "outputs": [],
      "source": [
        "X_new=pca.inverse_transform(X_pca)\n",
        "plt.scatter(X[:,0], X[:,1], alpha=0.2)\n",
        "plt.scatter(X1, X2, alpha=0.2)\n",
        "plt.scatter(X_new[:,0], X_new[:,1], alpha=0.8)\n",
        "plt.axis('equal');\n",
        "print(pca.components_)"
      ]
    },
    {
      "cell_type": "code",
      "execution_count": null,
      "id": "3f1b00c0",
      "metadata": {
        "papermill": {
          "duration": null,
          "end_time": null,
          "exception": null,
          "start_time": null,
          "status": "pending"
        },
        "tags": [],
        "id": "3f1b00c0"
      },
      "outputs": [],
      "source": [
        ""
      ]
    }
  ],
  "metadata": {
    "kernelspec": {
      "display_name": "Python 3",
      "language": "python",
      "name": "python3"
    },
    "language_info": {
      "codemirror_mode": {
        "name": "ipython",
        "version": 3
      },
      "file_extension": ".py",
      "mimetype": "text/x-python",
      "name": "python",
      "nbconvert_exporter": "python",
      "pygments_lexer": "ipython3",
      "version": "3.7.12"
    },
    "papermill": {
      "default_parameters": {},
      "duration": 14.222346,
      "end_time": "2022-07-24T04:55:06.934272",
      "environment_variables": {},
      "exception": true,
      "input_path": "__notebook__.ipynb",
      "output_path": "__notebook__.ipynb",
      "parameters": {},
      "start_time": "2022-07-24T04:54:52.711926",
      "version": "2.3.4"
    },
    "colab": {
      "name": "vazan-knn-kmeans-pca.ipynb",
      "provenance": [],
      "include_colab_link": true
    }
  },
  "nbformat": 4,
  "nbformat_minor": 5
}