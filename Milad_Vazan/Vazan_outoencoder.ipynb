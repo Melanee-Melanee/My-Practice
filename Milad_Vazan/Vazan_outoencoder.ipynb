{
  "nbformat": 4,
  "nbformat_minor": 0,
  "metadata": {
    "colab": {
      "name": "Vazan outoencoder.ipynb",
      "provenance": [],
      "authorship_tag": "ABX9TyOKOM/WumkOPgRGOUGaiHcz",
      "include_colab_link": true
    },
    "kernelspec": {
      "name": "python3",
      "display_name": "Python 3"
    },
    "language_info": {
      "name": "python"
    }
  },
  "cells": [
    {
      "cell_type": "markdown",
      "metadata": {
        "id": "view-in-github",
        "colab_type": "text"
      },
      "source": [
        "<a href=\"https://colab.research.google.com/github/Melanee-Melanee/My-Practice/blob/main/Milad_Vazan/Vazan_outoencoder.ipynb\" target=\"_parent\"><img src=\"https://colab.research.google.com/assets/colab-badge.svg\" alt=\"Open In Colab\"/></a>"
      ]
    },
    {
      "cell_type": "code",
      "execution_count": null,
      "metadata": {
        "id": "x9gRIkTVfE2j"
      },
      "outputs": [],
      "source": [
        "import numpy as np\n",
        "import matplotlib.pyplot as plt\n",
        "import seaborn as sns\n",
        "import pandas as pd\n",
        "import warnings\n",
        "import tensorflow\n",
        "tensorflow.compat.v1.disable_eager_execution()\n",
        "from tensorflow import keras"
      ]
    },
    {
      "cell_type": "code",
      "source": [
        "from keras.datasets import mnist\n",
        "#from tensorflow.keras.datasets import mnist\n",
        "(trainX, trainy), (testX,testy) = mnist.load_data()"
      ],
      "metadata": {
        "id": "KwkX68q0gTJH"
      },
      "execution_count": null,
      "outputs": []
    },
    {
      "cell_type": "code",
      "source": [
        "for j in range(5):\n",
        "  i = np.random.randint(0, 10000)\n",
        "  plt.subplot(550 + 1 + j)\n",
        "  plt.imshow(trainX[i], cmap='gray')\n",
        "  plt.title(trainy[i])\n",
        "plt.show()"
      ],
      "metadata": {
        "colab": {
          "base_uri": "https://localhost:8080/",
          "height": 101
        },
        "id": "eC6ikpgIhp-y",
        "outputId": "1ef3e0df-7a07-4637-ed38-068e2883b9dc"
      },
      "execution_count": null,
      "outputs": [
        {
          "output_type": "display_data",
          "data": {
            "text/plain": [
              "<Figure size 432x288 with 5 Axes>"
            ],
            "image/png": "[encoded data removed]"
          },
          "metadata": {
            "needs_background": "light"
          }
        }
      ]
    },
    {
      "cell_type": "code",
      "source": [
        "train_data = trainX.astype('float32')/255\n",
        "test_data = testX.astype('float32')/255\n",
        "train_data = np.reshape(train_data, (60000, 28, 28, 1))\n",
        "test_data = np.reshape(test_data, (10000, 28, 28, 1))\n",
        "print (train_data.shape, test_data.shape)"
      ],
      "metadata": {
        "colab": {
          "base_uri": "https://localhost:8080/"
        },
        "id": "9P8SFV-TpnpQ",
        "outputId": "97b83c5c-4f26-493c-83e7-e19da9cc1d8b"
      },
      "execution_count": null,
      "outputs": [
        {
          "output_type": "stream",
          "name": "stdout",
          "text": [
            "(60000, 28, 28, 1) (10000, 28, 28, 1)\n"
          ]
        }
      ]
    },
    {
      "cell_type": "code",
      "source": [
        "import tensorflow\n",
        "input_data = tensorflow.keras.layers.Input(shape=(28, 28, 1))\n",
        "encoder = tensorflow.keras.layers.Conv2D(64, (5,5),\n",
        "activation='relu')(input_data)\n",
        "encoder = tensorflow.keras.layers.MaxPooling2D((2,2))(encoder)\n",
        "encoder = tensorflow.keras.layers.Conv2D(64, (3,3),\n",
        "activation='relu')(encoder)\n",
        "encoder = tensorflow.keras.layers.MaxPooling2D((2,2))(encoder)\n",
        "encoder = tensorflow.keras.layers.Conv2D(32, (3,3),\n",
        "activation='relu')(encoder)\n",
        "encoder = tensorflow.keras.layers.MaxPooling2D((2,2))(encoder)\n",
        "encoder = tensorflow.keras.layers.Flatten()(encoder)\n",
        "encoder = tensorflow.keras.layers.Dense(16)(encoder)"
      ],
      "metadata": {
        "id": "Z7TByrjPp53x"
      },
      "execution_count": null,
      "outputs": []
    },
    {
      "cell_type": "code",
      "source": [
        "def sample_latent_features(distribution):\n",
        "  distribution_mean, distribution_variance = distribution\n",
        "  batch_size = tensorflow.shape(distribution_variance)[0]\n",
        "  random = tensorflow.keras.backend.random_normal(shape=(batch_size,\n",
        "tensorflow.shape(distribution_variance)[1]))\n",
        "  return distribution_mean + tensorflow.exp(0.5 * distribution_variance) *random\n",
        "distribution_mean = tensorflow.keras.layers.Dense(2, name='mean')(encoder)\n",
        "distribution_variance = tensorflow.keras.layers.Dense(2,\n",
        "name='log_variance')(encoder)\n",
        "latent_encoding =tensorflow.keras.layers.Lambda(sample_latent_features)([distribution_mean,\n",
        "distribution_variance])"
      ],
      "metadata": {
        "id": "kzvT0KZUrgA9"
      },
      "execution_count": null,
      "outputs": []
    },
    {
      "cell_type": "code",
      "source": [
        "encoder_model = tensorflow.keras.Model(input_data,\n",
        "latent_encoding)\n",
        "encoder_model.summary()"
      ],
      "metadata": {
        "colab": {
          "base_uri": "https://localhost:8080/"
        },
        "id": "azmP-vdFs9tw",
        "outputId": "e5c8ba42-b31d-43ef-bc5a-854b15db0199"
      },
      "execution_count": null,
      "outputs": [
        {
          "output_type": "stream",
          "name": "stdout",
          "text": [
            "Model: \"model\"\n",
            "__________________________________________________________________________________________________\n",
            " Layer (type)                   Output Shape         Param #     Connected to                     \n",
            "==================================================================================================\n",
            " input_1 (InputLayer)           [(None, 28, 28, 1)]  0           []                               \n",
            "                                                                                                  \n",
            " conv2d (Conv2D)                (None, 24, 24, 64)   1664        ['input_1[0][0]']                \n",
            "                                                                                                  \n",
            " max_pooling2d (MaxPooling2D)   (None, 12, 12, 64)   0           ['conv2d[0][0]']                 \n",
            "                                                                                                  \n",
            " conv2d_1 (Conv2D)              (None, 10, 10, 64)   36928       ['max_pooling2d[0][0]']          \n",
            "                                                                                                  \n",
            " max_pooling2d_1 (MaxPooling2D)  (None, 5, 5, 64)    0           ['conv2d_1[0][0]']               \n",
            "                                                                                                  \n",
            " conv2d_2 (Conv2D)              (None, 3, 3, 32)     18464       ['max_pooling2d_1[0][0]']        \n",
            "                                                                                                  \n",
            " max_pooling2d_2 (MaxPooling2D)  (None, 1, 1, 32)    0           ['conv2d_2[0][0]']               \n",
            "                                                                                                  \n",
            " flatten (Flatten)              (None, 32)           0           ['max_pooling2d_2[0][0]']        \n",
            "                                                                                                  \n",
            " dense (Dense)                  (None, 16)           528         ['flatten[0][0]']                \n",
            "                                                                                                  \n",
            " mean (Dense)                   (None, 2)            34          ['dense[0][0]']                  \n",
            "                                                                                                  \n",
            " log_variance (Dense)           (None, 2)            34          ['dense[0][0]']                  \n",
            "                                                                                                  \n",
            " lambda (Lambda)                (None, 2)            0           ['mean[0][0]',                   \n",
            "                                                                  'log_variance[0][0]']           \n",
            "                                                                                                  \n",
            "==================================================================================================\n",
            "Total params: 57,652\n",
            "Trainable params: 57,652\n",
            "Non-trainable params: 0\n",
            "__________________________________________________________________________________________________\n"
          ]
        }
      ]
    },
    {
      "cell_type": "code",
      "source": [
        "decoder_input = tensorflow.keras.layers.Input(shape=(2))\n",
        "decoder = tensorflow.keras.layers.Dense(64)(decoder_input)\n",
        "decoder = tensorflow.keras.layers.Reshape((1, 1, 64))(decoder)\n",
        "decoder = tensorflow.keras.layers.Conv2DTranspose(64, (3,3),\n",
        "activation='relu')(decoder)\n",
        "decoder = tensorflow.keras.layers.Conv2DTranspose(64, (3,3),\n",
        "activation='relu')(decoder)\n",
        "decoder = tensorflow.keras.layers.UpSampling2D((2,2))(decoder)\n",
        "decoder = tensorflow.keras.layers.Conv2DTranspose(64, (3,3),\n",
        "activation='relu')(decoder)\n",
        "decoder = tensorflow.keras.layers.UpSampling2D((2,2))(decoder)\n",
        "decoder_output = tensorflow.keras.layers.Conv2DTranspose(1, (5,5),\n",
        "activation='relu')(decoder)"
      ],
      "metadata": {
        "id": "j4GvdF2duhiG"
      },
      "execution_count": null,
      "outputs": []
    },
    {
      "cell_type": "code",
      "source": [
        "decoder_model = tensorflow.keras.Model(decoder_input,\n",
        "decoder_output)\n",
        "decoder_model.summary()"
      ],
      "metadata": {
        "colab": {
          "base_uri": "https://localhost:8080/"
        },
        "id": "WE6PMJf9vlVf",
        "outputId": "95a88854-2602-4238-8efd-712ffc10ba38"
      },
      "execution_count": null,
      "outputs": [
        {
          "output_type": "stream",
          "name": "stdout",
          "text": [
            "Model: \"model_1\"\n",
            "_________________________________________________________________\n",
            " Layer (type)                Output Shape              Param #   \n",
            "=================================================================\n",
            " input_2 (InputLayer)        [(None, 2)]               0         \n",
            "                                                                 \n",
            " dense_1 (Dense)             (None, 64)                192       \n",
            "                                                                 \n",
            " reshape (Reshape)           (None, 1, 1, 64)          0         \n",
            "                                                                 \n",
            " conv2d_transpose (Conv2DTra  (None, 3, 3, 64)         36928     \n",
            " nspose)                                                         \n",
            "                                                                 \n",
            " conv2d_transpose_1 (Conv2DT  (None, 5, 5, 64)         36928     \n",
            " ranspose)                                                       \n",
            "                                                                 \n",
            " up_sampling2d (UpSampling2D  (None, 10, 10, 64)       0         \n",
            " )                                                               \n",
            "                                                                 \n",
            " conv2d_transpose_2 (Conv2DT  (None, 12, 12, 64)       36928     \n",
            " ranspose)                                                       \n",
            "                                                                 \n",
            " up_sampling2d_1 (UpSampling  (None, 24, 24, 64)       0         \n",
            " 2D)                                                             \n",
            "                                                                 \n",
            " conv2d_transpose_3 (Conv2DT  (None, 28, 28, 1)        1601      \n",
            " ranspose)                                                       \n",
            "                                                                 \n",
            "=================================================================\n",
            "Total params: 112,577\n",
            "Trainable params: 112,577\n",
            "Non-trainable params: 0\n",
            "_________________________________________________________________\n"
          ]
        }
      ]
    },
    {
      "cell_type": "code",
      "source": [
        "encoded = encoder_model(input_data)\n",
        "decoded = decoder_model(encoded)\n",
        "autoencoder = tensorflow.keras.models.Model(input_data, decoded)\n",
        "autoencoder.summary()"
      ],
      "metadata": {
        "colab": {
          "base_uri": "https://localhost:8080/"
        },
        "id": "siGCtJF9wJ4C",
        "outputId": "214123d8-e703-4d84-860c-a5a809f03a30"
      },
      "execution_count": null,
      "outputs": [
        {
          "output_type": "stream",
          "name": "stdout",
          "text": [
            "Model: \"model_2\"\n",
            "_________________________________________________________________\n",
            " Layer (type)                Output Shape              Param #   \n",
            "=================================================================\n",
            " input_1 (InputLayer)        [(None, 28, 28, 1)]       0         \n",
            "                                                                 \n",
            " model (Functional)          (None, 2)                 57652     \n",
            "                                                                 \n",
            " model_1 (Functional)        (None, 28, 28, 1)         112577    \n",
            "                                                                 \n",
            "=================================================================\n",
            "Total params: 170,229\n",
            "Trainable params: 170,229\n",
            "Non-trainable params: 0\n",
            "_________________________________________________________________\n"
          ]
        }
      ]
    },
    {
      "cell_type": "code",
      "source": [
        "def get_loss(distribution_mean, distribution_variance):\n",
        "  def get_reconstruction_loss(y_true, y_pred):\n",
        "    reconstruction_loss = tensorflow.keras.losses.mse(y_true, y_pred)\n",
        "    reconstruction_loss_batch = tensorflow.reduce_mean(reconstruction_loss)\n",
        "  return reconstruction_loss_batch*28*28\n",
        "def get_kl_loss(distribution_mean, distribution_variance):\n",
        "  kl_loss = 1 + distribution_variance -tensorflow.square(distribution_mean) -tensorflow.exp(distribution_variance)\n",
        "  kl_loss_batch = tensorflow.reduce_mean(kl_loss)\n",
        "  return kl_loss_batch*(-0.5)\n",
        "def total_loss(y_true, y_pred):\n",
        "  reconstruction_loss_batch = get_reconstruction_loss(y_true, y_pred)\n",
        "  kl_loss_batch = get_kl_loss(distribution_mean, distribution_variance)\n",
        "  return reconstruction_loss_batch + kl_loss_batch\n",
        "  return total_loss"
      ],
      "metadata": {
        "id": "MDgFjgiGwSik"
      },
      "execution_count": null,
      "outputs": []
    },
    {
      "cell_type": "code",
      "source": [
        "autoencoder.compile(loss=get_loss(distribution_mean,distribution_variance), optimizer='adam')"
      ],
      "metadata": {
        "colab": {
          "base_uri": "https://localhost:8080/",
          "height": 289
        },
        "id": "atBze2tLxEbw",
        "outputId": "3ced9352-1dfd-4e7b-c1b5-1ee05ecc05dc"
      },
      "execution_count": null,
      "outputs": [
        {
          "output_type": "error",
          "ename": "NameError",
          "evalue": "ignored",
          "traceback": [
            "\u001b[0;31m---------------------------------------------------------------------------\u001b[0m",
            "\u001b[0;31mNameError\u001b[0m                                 Traceback (most recent call last)",
            "\u001b[0;32m<ipython-input-35-14b98ec2b403>\u001b[0m in \u001b[0;36m<module>\u001b[0;34m()\u001b[0m\n\u001b[0;32m----> 1\u001b[0;31m \u001b[0mautoencoder\u001b[0m\u001b[0;34m.\u001b[0m\u001b[0mcompile\u001b[0m\u001b[0;34m(\u001b[0m\u001b[0mloss\u001b[0m\u001b[0;34m=\u001b[0m\u001b[0mget_loss\u001b[0m\u001b[0;34m(\u001b[0m\u001b[0mdistribution_mean\u001b[0m\u001b[0;34m,\u001b[0m\u001b[0mdistribution_variance\u001b[0m\u001b[0;34m)\u001b[0m\u001b[0;34m,\u001b[0m \u001b[0moptimizer\u001b[0m\u001b[0;34m=\u001b[0m\u001b[0;34m'adam'\u001b[0m\u001b[0;34m)\u001b[0m\u001b[0;34m\u001b[0m\u001b[0;34m\u001b[0m\u001b[0m\n\u001b[0m",
            "\u001b[0;32m<ipython-input-15-ae68f797e7d2>\u001b[0m in \u001b[0;36mget_loss\u001b[0;34m(distribution_mean, distribution_variance)\u001b[0m\n\u001b[1;32m      3\u001b[0m     \u001b[0mreconstruction_loss\u001b[0m \u001b[0;34m=\u001b[0m \u001b[0mtensorflow\u001b[0m\u001b[0;34m.\u001b[0m\u001b[0mkeras\u001b[0m\u001b[0;34m.\u001b[0m\u001b[0mlosses\u001b[0m\u001b[0;34m.\u001b[0m\u001b[0mmse\u001b[0m\u001b[0;34m(\u001b[0m\u001b[0my_true\u001b[0m\u001b[0;34m,\u001b[0m \u001b[0my_pred\u001b[0m\u001b[0;34m)\u001b[0m\u001b[0;34m\u001b[0m\u001b[0;34m\u001b[0m\u001b[0m\n\u001b[1;32m      4\u001b[0m     \u001b[0mreconstruction_loss_batch\u001b[0m \u001b[0;34m=\u001b[0m \u001b[0mtensorflow\u001b[0m\u001b[0;34m.\u001b[0m\u001b[0mreduce_mean\u001b[0m\u001b[0;34m(\u001b[0m\u001b[0mreconstruction_loss\u001b[0m\u001b[0;34m)\u001b[0m\u001b[0;34m\u001b[0m\u001b[0;34m\u001b[0m\u001b[0m\n\u001b[0;32m----> 5\u001b[0;31m   \u001b[0;32mreturn\u001b[0m \u001b[0mreconstruction_loss_batch\u001b[0m\u001b[0;34m*\u001b[0m\u001b[0;36m28\u001b[0m\u001b[0;34m*\u001b[0m\u001b[0;36m28\u001b[0m\u001b[0;34m\u001b[0m\u001b[0;34m\u001b[0m\u001b[0m\n\u001b[0m\u001b[1;32m      6\u001b[0m \u001b[0;32mdef\u001b[0m \u001b[0mget_kl_loss\u001b[0m\u001b[0;34m(\u001b[0m\u001b[0mdistribution_mean\u001b[0m\u001b[0;34m,\u001b[0m \u001b[0mdistribution_variance\u001b[0m\u001b[0;34m)\u001b[0m\u001b[0;34m:\u001b[0m\u001b[0;34m\u001b[0m\u001b[0;34m\u001b[0m\u001b[0m\n\u001b[1;32m      7\u001b[0m   \u001b[0mkl_loss\u001b[0m \u001b[0;34m=\u001b[0m \u001b[0;36m1\u001b[0m \u001b[0;34m+\u001b[0m \u001b[0mdistribution_variance\u001b[0m \u001b[0;34m-\u001b[0m\u001b[0mtensorflow\u001b[0m\u001b[0;34m.\u001b[0m\u001b[0msquare\u001b[0m\u001b[0;34m(\u001b[0m\u001b[0mdistribution_mean\u001b[0m\u001b[0;34m)\u001b[0m \u001b[0;34m-\u001b[0m\u001b[0mtensorflow\u001b[0m\u001b[0;34m.\u001b[0m\u001b[0mexp\u001b[0m\u001b[0;34m(\u001b[0m\u001b[0mdistribution_variance\u001b[0m\u001b[0;34m)\u001b[0m\u001b[0;34m\u001b[0m\u001b[0;34m\u001b[0m\u001b[0m\n",
            "\u001b[0;31mNameError\u001b[0m: name 'reconstruction_loss_batch' is not defined"
          ]
        }
      ]
    }
  ]
}