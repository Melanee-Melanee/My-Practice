{
 "cells": [
  {
   "cell_type": "markdown",
   "id": "34b8bd77",
   "metadata": {
    "papermill": {
     "duration": 0.019782,
     "end_time": "2022-06-26T16:07:37.553099",
     "exception": false,
     "start_time": "2022-06-26T16:07:37.533317",
     "status": "completed"
    },
    "tags": []
   },
   "source": [
    "This notebook is taken from: https://www.youtube.com/watch?v=tPYj3fFJGjk"
   ]
  },
  {
   "cell_type": "markdown",
   "id": "36306e32",
   "metadata": {
    "id": "mbdnKlcuMM4u",
    "papermill": {
     "duration": 0.019532,
     "end_time": "2022-06-26T16:07:37.591456",
     "exception": false,
     "start_time": "2022-06-26T16:07:37.571924",
     "status": "completed"
    },
    "tags": []
   },
   "source": [
    "***Linear Regression**\n",
    "Linear regression is one of the most basic forms of machine learning and is used to predict numeric values. \n",
    "\n",
    "In this tutorial we will use a linear model to predict the survival rate of passangers from the titanic dataset.\n",
    "\n",
    "*This section is based on the following documentation: https://www.tensorflow.org/tutorials/estimator/linear*\n"
   ]
  },
  {
   "cell_type": "markdown",
   "id": "7728b6c9",
   "metadata": {
    "id": "tUgsCvCHLksw",
    "papermill": {
     "duration": 0.017898,
     "end_time": "2022-06-26T16:07:37.627976",
     "exception": false,
     "start_time": "2022-06-26T16:07:37.610078",
     "status": "completed"
    },
    "tags": []
   },
   "source": [
    "#TensorFlow Core Learning Algorithms\n",
    "In this notebook we will walk through 4 fundemental machine learning algorithms. We will apply each of these algorithms to unique problems and datasets before highlighting the use cases of each.\n",
    "\n",
    "The algorithms we will focus on include:\n",
    "- Linear Regression\n",
    "- Classification\n",
    "- Clustering\n",
    "- Hidden Markov Models\n",
    "\n",
    "It is worth noting that there are many tools within TensorFlow that could be used to solve the problems we will see below. I have chosen the tools that I belive give the most variety and are easiest to use."
   ]
  },
  {
   "cell_type": "markdown",
   "id": "552c0632",
   "metadata": {
    "id": "wsJ-Iov1P4RK",
    "papermill": {
     "duration": 0.017898,
     "end_time": "2022-06-26T16:07:37.664322",
     "exception": false,
     "start_time": "2022-06-26T16:07:37.646424",
     "status": "completed"
    },
    "tags": []
   },
   "source": [
    "###How it Works\n",
    "Before we dive in, I will provide a very surface level explination of the linear regression algorithm.\n",
    "\n",
    "Linear regression follows a very simple concept. If data points are related linearly, we can generate a line of best fit for these points and use it to predict future values.\n",
    "\n",
    "Let's take an example of a data set with one feature and one label.\n",
    "\n"
   ]
  },
  {
   "cell_type": "code",
   "execution_count": 1,
   "id": "27bd5a37",
   "metadata": {
    "execution": {
     "iopub.execute_input": "2022-06-26T16:07:37.704313Z",
     "iopub.status.busy": "2022-06-26T16:07:37.703555Z",
     "iopub.status.idle": "2022-06-26T16:07:37.930559Z",
     "shell.execute_reply": "2022-06-26T16:07:37.929430Z"
    },
    "id": "t4Hp-dYmR2jf",
    "outputId": "db401a27-85b0-4ec2-a110-91c938f54bca",
    "papermill": {
     "duration": 0.249774,
     "end_time": "2022-06-26T16:07:37.933424",
     "exception": false,
     "start_time": "2022-06-26T16:07:37.683650",
     "status": "completed"
    },
    "tags": []
   },
   "outputs": [
    {
     "data": {
      "text/plain": [
       "(0.0, 6.0, 0.0, 20.0)"
      ]
     },
     "execution_count": 1,
     "metadata": {},
     "output_type": "execute_result"
    },
    {
     "data": {
      "image/png": "[encoded data removed]",
      "text/plain": [
       "<Figure size 432x288 with 1 Axes>"
      ]
     },
     "metadata": {
      "needs_background": "light"
     },
     "output_type": "display_data"
    }
   ],
   "source": [
    "import matplotlib.pyplot as plt\n",
    "import numpy as np\n",
    "\n",
    "x = [1, 2, 2.5, 3, 4]\n",
    "y = [1, 4, 7, 9, 15]\n",
    "plt.plot(x, y, 'ro')\n",
    "plt.axis([0, 6, 0, 20])"
   ]
  },
  {
   "cell_type": "markdown",
   "id": "7c535291",
   "metadata": {
    "id": "2m1DTp22SLo3",
    "papermill": {
     "duration": 0.01861,
     "end_time": "2022-06-26T16:07:37.971027",
     "exception": false,
     "start_time": "2022-06-26T16:07:37.952417",
     "status": "completed"
    },
    "tags": []
   },
   "source": [
    "We can see that this data has a linear coorespondence. When the x value increases, so does the y. Because of this relation we can create a line of best fit for this dataset. In this example our line will only use one input variable, as we are working with two dimensions. In larger datasets with more features our line will have more features and inputs.\n",
    "\n",
    "\"Line of best fit refers to a line through a scatter plot of data points that best expresses the relationship between those points.\" (https://www.investopedia.com/terms/l/line-of-best-fit.asp)\n",
    "\n",
    "Here's a refresher on the equation of a line in 2D.\n",
    "\n",
    "$ y = mx + b $\n",
    "\n",
    "Here's an example of a line of best fit for this graph.\n",
    "\n"
   ]
  },
  {
   "cell_type": "code",
   "execution_count": 2,
   "id": "ddea6a0e",
   "metadata": {
    "execution": {
     "iopub.execute_input": "2022-06-26T16:07:38.010807Z",
     "iopub.status.busy": "2022-06-26T16:07:38.010122Z",
     "iopub.status.idle": "2022-06-26T16:07:38.200612Z",
     "shell.execute_reply": "2022-06-26T16:07:38.199531Z"
    },
    "id": "Kv5eKLP_UYZi",
    "outputId": "77c4f7fd-d343-4f60-a7a0-ebeecd253ef9",
    "papermill": {
     "duration": 0.213314,
     "end_time": "2022-06-26T16:07:38.202952",
     "exception": false,
     "start_time": "2022-06-26T16:07:37.989638",
     "status": "completed"
    },
    "tags": []
   },
   "outputs": [
    {
     "data": {
      "image/png": "[encoded data removed]",
      "text/plain": [
       "<Figure size 432x288 with 1 Axes>"
      ]
     },
     "metadata": {
      "needs_background": "light"
     },
     "output_type": "display_data"
    }
   ],
   "source": [
    "plt.plot(x, y, 'ro')\n",
    "plt.axis([0, 6, 0, 20])\n",
    "plt.plot(np.unique(x), np.poly1d(np.polyfit(x, y, 1))(np.unique(x)))\n",
    "plt.show()"
   ]
  },
  {
   "cell_type": "markdown",
   "id": "de0e59da",
   "metadata": {
    "id": "Hd3T50PLB4lV",
    "papermill": {
     "duration": 0.018548,
     "end_time": "2022-06-26T16:07:38.240255",
     "exception": false,
     "start_time": "2022-06-26T16:07:38.221707",
     "status": "completed"
    },
    "tags": []
   },
   "source": [
    "Once we've generated this line for our dataset, we can use its equation to predict future values. We just pass the features of the data point we would like to predict into the equation of the line and use the output as our prediction."
   ]
  },
  {
   "cell_type": "markdown",
   "id": "0c02a442",
   "metadata": {
    "id": "y02FbC56Nbx0",
    "papermill": {
     "duration": 0.019246,
     "end_time": "2022-06-26T16:07:38.278453",
     "exception": false,
     "start_time": "2022-06-26T16:07:38.259207",
     "status": "completed"
    },
    "tags": []
   },
   "source": [
    "### Setup and Imports\n",
    "Before we get started we must install *sklearn* and import the following modules."
   ]
  },
  {
   "cell_type": "code",
   "execution_count": 3,
   "id": "83662072",
   "metadata": {
    "execution": {
     "iopub.execute_input": "2022-06-26T16:07:38.319409Z",
     "iopub.status.busy": "2022-06-26T16:07:38.318663Z",
     "iopub.status.idle": "2022-06-26T16:07:50.457432Z",
     "shell.execute_reply": "2022-06-26T16:07:50.456361Z"
    },
    "id": "p4xpuxwKHOGL",
    "papermill": {
     "duration": 12.162457,
     "end_time": "2022-06-26T16:07:50.460066",
     "exception": false,
     "start_time": "2022-06-26T16:07:38.297609",
     "status": "completed"
    },
    "tags": []
   },
   "outputs": [
    {
     "name": "stdout",
     "output_type": "stream",
     "text": [
      "\u001b[33mWARNING: Running pip as the 'root' user can result in broken permissions and conflicting behaviour with the system package manager. It is recommended to use a virtual environment instead: https://pip.pypa.io/warnings/venv\u001b[0m\u001b[33m\r\n",
      "\u001b[0m"
     ]
    }
   ],
   "source": [
    "!pip install -q sklearn"
   ]
  },
  {
   "cell_type": "code",
   "execution_count": 4,
   "id": "ccace791",
   "metadata": {
    "_kg_hide-input": false,
    "_kg_hide-output": true,
    "execution": {
     "iopub.execute_input": "2022-06-26T16:07:50.502301Z",
     "iopub.status.busy": "2022-06-26T16:07:50.501879Z",
     "iopub.status.idle": "2022-06-26T16:07:50.508406Z",
     "shell.execute_reply": "2022-06-26T16:07:50.506759Z"
    },
    "id": "iI3zi2ZhQ3WB",
    "outputId": "9b7fa093-1a82-481a-fabe-1cb44429919d",
    "papermill": {
     "duration": 0.030361,
     "end_time": "2022-06-26T16:07:50.511047",
     "exception": true,
     "start_time": "2022-06-26T16:07:50.480686",
     "status": "failed"
    },
    "tags": []
   },
   "outputs": [
    {
     "name": "stderr",
     "output_type": "stream",
     "text": [
      "UsageError: Line magic function `%tensorflow_version` not found.\n"
     ]
    }
   ],
   "source": [
    "%tensorflow_version 2.x  # this line is not required unless you are in a notebook"
   ]
  },
  {
   "cell_type": "code",
   "execution_count": null,
   "id": "9d426bcf",
   "metadata": {
    "execution": {
     "iopub.execute_input": "2022-06-26T14:56:51.601522Z",
     "iopub.status.busy": "2022-06-26T14:56:51.601193Z",
     "iopub.status.idle": "2022-06-26T14:57:02.477359Z",
     "shell.execute_reply": "2022-06-26T14:57:02.475691Z",
     "shell.execute_reply.started": "2022-06-26T14:56:51.601497Z"
    },
    "id": "qcII_xj9Ntyo",
    "papermill": {
     "duration": null,
     "end_time": null,
     "exception": null,
     "start_time": null,
     "status": "pending"
    },
    "tags": []
   },
   "outputs": [],
   "source": [
    "from __future__ import absolute_import, division, print_function, unicode_literals\n",
    "\n",
    "import numpy as np\n",
    "import pandas as pd\n",
    "import matplotlib.pyplot as plt\n",
    "from IPython.display import clear_output\n",
    "from six.moves import urllib\n",
    "\n",
    "import tensorflow.compat.v2.feature_column as fc\n",
    "\n",
    "import tensorflow as tf"
   ]
  },
  {
   "cell_type": "markdown",
   "id": "f1b153f1",
   "metadata": {
    "id": "GltdTjiERfWi",
    "papermill": {
     "duration": null,
     "end_time": null,
     "exception": null,
     "start_time": null,
     "status": "pending"
    },
    "tags": []
   },
   "source": [
    "### Data\n",
    "So, if you haven't realized by now a major part of machine learning is data! In fact, it's so important that most of what we do in this tutorial will focus on exploring, cleaning and selecting appropriate data.\n",
    "\n",
    "The dataset we will be focusing on here is the titanic dataset. It has tons of information about each passanger on the ship. Our first step is always to understand the data and explore it. So, let's do that!\n",
    "\n",
    "**Below we will load a dataset and learn how we can explore it using some built-in tools. **\n",
    "\n"
   ]
  },
  {
   "cell_type": "code",
   "execution_count": null,
   "id": "7abc76f0",
   "metadata": {
    "execution": {
     "iopub.execute_input": "2022-06-26T15:34:00.178210Z",
     "iopub.status.busy": "2022-06-26T15:34:00.177749Z",
     "iopub.status.idle": "2022-06-26T15:34:00.419830Z",
     "shell.execute_reply": "2022-06-26T15:34:00.418660Z",
     "shell.execute_reply.started": "2022-06-26T15:34:00.178178Z"
    },
    "id": "CpllWsKIOGOy",
    "papermill": {
     "duration": null,
     "end_time": null,
     "exception": null,
     "start_time": null,
     "status": "pending"
    },
    "tags": []
   },
   "outputs": [],
   "source": [
    "# Load dataset.\n",
    "dftrain = pd.read_csv('https://storage.googleapis.com/tf-datasets/titanic/train.csv') # training data\n",
    "dfeval = pd.read_csv('https://storage.googleapis.com/tf-datasets/titanic/eval.csv') # testing data\n",
    "y_train = dftrain.pop('survived') #omit 'survived' column\n",
    "y_eval = dfeval.pop('survived') #omit 'survived' column"
   ]
  },
  {
   "cell_type": "code",
   "execution_count": null,
   "id": "38f8056b",
   "metadata": {
    "execution": {
     "iopub.execute_input": "2022-06-26T15:35:29.909972Z",
     "iopub.status.busy": "2022-06-26T15:35:29.909542Z",
     "iopub.status.idle": "2022-06-26T15:35:29.921546Z",
     "shell.execute_reply": "2022-06-26T15:35:29.920454Z",
     "shell.execute_reply.started": "2022-06-26T15:35:29.909946Z"
    },
    "papermill": {
     "duration": null,
     "end_time": null,
     "exception": null,
     "start_time": null,
     "status": "pending"
    },
    "tags": []
   },
   "outputs": [],
   "source": [
    "print(dftrain.head())"
   ]
  },
  {
   "cell_type": "code",
   "execution_count": null,
   "id": "3a8f4e73",
   "metadata": {
    "execution": {
     "iopub.execute_input": "2022-06-26T15:34:31.279259Z",
     "iopub.status.busy": "2022-06-26T15:34:31.278860Z",
     "iopub.status.idle": "2022-06-26T15:34:31.286589Z",
     "shell.execute_reply": "2022-06-26T15:34:31.285319Z",
     "shell.execute_reply.started": "2022-06-26T15:34:31.279233Z"
    },
    "papermill": {
     "duration": null,
     "end_time": null,
     "exception": null,
     "start_time": null,
     "status": "pending"
    },
    "tags": []
   },
   "outputs": [],
   "source": [
    "print(y_train)"
   ]
  },
  {
   "cell_type": "code",
   "execution_count": null,
   "id": "09b163f9",
   "metadata": {
    "execution": {
     "iopub.execute_input": "2022-06-26T15:44:07.303630Z",
     "iopub.status.busy": "2022-06-26T15:44:07.303310Z",
     "iopub.status.idle": "2022-06-26T15:44:07.310815Z",
     "shell.execute_reply": "2022-06-26T15:44:07.309685Z",
     "shell.execute_reply.started": "2022-06-26T15:44:07.303605Z"
    },
    "papermill": {
     "duration": null,
     "end_time": null,
     "exception": null,
     "start_time": null,
     "status": "pending"
    },
    "tags": []
   },
   "outputs": [],
   "source": [
    "print(dftrain.loc[0] ) #row[0]"
   ]
  },
  {
   "cell_type": "code",
   "execution_count": null,
   "id": "64b8fd40",
   "metadata": {
    "execution": {
     "iopub.execute_input": "2022-06-26T15:49:06.549692Z",
     "iopub.status.busy": "2022-06-26T15:49:06.549314Z",
     "iopub.status.idle": "2022-06-26T15:49:06.558128Z",
     "shell.execute_reply": "2022-06-26T15:49:06.557173Z",
     "shell.execute_reply.started": "2022-06-26T15:49:06.549664Z"
    },
    "papermill": {
     "duration": null,
     "end_time": null,
     "exception": null,
     "start_time": null,
     "status": "pending"
    },
    "tags": []
   },
   "outputs": [],
   "source": [
    "print(dftrain['age'])"
   ]
  },
  {
   "cell_type": "markdown",
   "id": "436a074e",
   "metadata": {
    "id": "1PJr5GosQBeY",
    "papermill": {
     "duration": null,
     "end_time": null,
     "exception": null,
     "start_time": null,
     "status": "pending"
    },
    "tags": []
   },
   "source": [
    "The ```pd.read_csv()``` method will return to us a new pandas *dataframe*. You can think of a dataframe like a table. In fact, we can actually have a look at the table representation.\n",
    "\n",
    "We've decided to pop the \"survived\" column from our dataset and store it in a new variable. This column simply tells us if the person survived our not.\n",
    "\n",
    "To look at the data we'll use the ```.head()``` method from pandas. This will show us the first 5 items in our dataframe."
   ]
  },
  {
   "cell_type": "code",
   "execution_count": null,
   "id": "5b7b447c",
   "metadata": {
    "execution": {
     "iopub.execute_input": "2022-06-26T15:51:14.115349Z",
     "iopub.status.busy": "2022-06-26T15:51:14.114990Z",
     "iopub.status.idle": "2022-06-26T15:51:14.135502Z",
     "shell.execute_reply": "2022-06-26T15:51:14.134249Z",
     "shell.execute_reply.started": "2022-06-26T15:51:14.115322Z"
    },
    "id": "mKsXeWinQiVR",
    "outputId": "b91f8b23-eb7b-4fa6-ccd7-aef6d9441afa",
    "papermill": {
     "duration": null,
     "end_time": null,
     "exception": null,
     "start_time": null,
     "status": "pending"
    },
    "tags": []
   },
   "outputs": [],
   "source": [
    "dftrain.head()"
   ]
  },
  {
   "cell_type": "markdown",
   "id": "67a7e0f0",
   "metadata": {
    "id": "eeVQGdpCRC1P",
    "papermill": {
     "duration": null,
     "end_time": null,
     "exception": null,
     "start_time": null,
     "status": "pending"
    },
    "tags": []
   },
   "source": [
    "And if we want a more statistical analysis of our data we can use the ```.describe()``` method."
   ]
  },
  {
   "cell_type": "code",
   "execution_count": null,
   "id": "0842832b",
   "metadata": {
    "execution": {
     "iopub.execute_input": "2022-06-26T15:52:42.373923Z",
     "iopub.status.busy": "2022-06-26T15:52:42.373057Z",
     "iopub.status.idle": "2022-06-26T15:52:42.411077Z",
     "shell.execute_reply": "2022-06-26T15:52:42.409796Z",
     "shell.execute_reply.started": "2022-06-26T15:52:42.373895Z"
    },
    "id": "IkL2G42GRMf8",
    "outputId": "ffb42606-8f18-48d2-aacf-120578212af7",
    "papermill": {
     "duration": null,
     "end_time": null,
     "exception": null,
     "start_time": null,
     "status": "pending"
    },
    "tags": []
   },
   "outputs": [],
   "source": [
    "dftrain.describe()"
   ]
  },
  {
   "cell_type": "markdown",
   "id": "b4a0aeb6",
   "metadata": {
    "id": "aX7FSzrQRXeC",
    "papermill": {
     "duration": null,
     "end_time": null,
     "exception": null,
     "start_time": null,
     "status": "pending"
    },
    "tags": []
   },
   "source": [
    "And since we talked so much about shapes in the previous tutorial let's have a look at that too!"
   ]
  },
  {
   "cell_type": "code",
   "execution_count": null,
   "id": "91d79737",
   "metadata": {
    "execution": {
     "iopub.execute_input": "2022-06-26T15:52:38.822318Z",
     "iopub.status.busy": "2022-06-26T15:52:38.821883Z",
     "iopub.status.idle": "2022-06-26T15:52:38.830343Z",
     "shell.execute_reply": "2022-06-26T15:52:38.829499Z",
     "shell.execute_reply.started": "2022-06-26T15:52:38.822287Z"
    },
    "id": "tR1Oy1dISdjn",
    "outputId": "94fb254b-0222-4b4b-d47c-73562f37571c",
    "papermill": {
     "duration": null,
     "end_time": null,
     "exception": null,
     "start_time": null,
     "status": "pending"
    },
    "tags": []
   },
   "outputs": [],
   "source": [
    "dftrain.shape"
   ]
  },
  {
   "cell_type": "markdown",
   "id": "0ab6d83d",
   "metadata": {
    "id": "iIfLiSRMTeW4",
    "papermill": {
     "duration": null,
     "end_time": null,
     "exception": null,
     "start_time": null,
     "status": "pending"
    },
    "tags": []
   },
   "source": [
    "So have have 627 entries and 9 features, nice!\n",
    "\n",
    "Now let's have a look at our survival information."
   ]
  },
  {
   "cell_type": "code",
   "execution_count": null,
   "id": "31ccb31c",
   "metadata": {
    "execution": {
     "iopub.execute_input": "2022-06-26T15:52:55.736882Z",
     "iopub.status.busy": "2022-06-26T15:52:55.735904Z",
     "iopub.status.idle": "2022-06-26T15:52:55.743926Z",
     "shell.execute_reply": "2022-06-26T15:52:55.742839Z",
     "shell.execute_reply.started": "2022-06-26T15:52:55.736857Z"
    },
    "id": "aX1lKW7TTh-E",
    "outputId": "6b2efa46-40a8-4fae-bdd1-b828283daa0c",
    "papermill": {
     "duration": null,
     "end_time": null,
     "exception": null,
     "start_time": null,
     "status": "pending"
    },
    "tags": []
   },
   "outputs": [],
   "source": [
    "y_train.head()"
   ]
  },
  {
   "cell_type": "markdown",
   "id": "d4f1ac03",
   "metadata": {
    "id": "ahqIyYPoTnRh",
    "papermill": {
     "duration": null,
     "end_time": null,
     "exception": null,
     "start_time": null,
     "status": "pending"
    },
    "tags": []
   },
   "source": [
    "Notice that each entry is either a 0 or 1. Can you guess which stands for survival? \n",
    "\n",
    "**And now because visuals are always valuable let's generate a few graphs of the data.**"
   ]
  },
  {
   "cell_type": "code",
   "execution_count": null,
   "id": "83ecf086",
   "metadata": {
    "id": "Edndbw4sU5Wd",
    "outputId": "42a09890-5513-4785-84d7-98af53216446",
    "papermill": {
     "duration": null,
     "end_time": null,
     "exception": null,
     "start_time": null,
     "status": "pending"
    },
    "tags": []
   },
   "outputs": [],
   "source": [
    "dftrain.age.hist(bins=20)"
   ]
  },
  {
   "cell_type": "code",
   "execution_count": null,
   "id": "121a4020",
   "metadata": {
    "id": "4SM_tYvyUtsw",
    "outputId": "128bea12-3654-4692-e7cc-6279f8ed2079",
    "papermill": {
     "duration": null,
     "end_time": null,
     "exception": null,
     "start_time": null,
     "status": "pending"
    },
    "tags": []
   },
   "outputs": [],
   "source": [
    "dftrain.sex.value_counts().plot(kind='barh')"
   ]
  },
  {
   "cell_type": "code",
   "execution_count": null,
   "id": "144eb8de",
   "metadata": {
    "id": "WCv3ek2LU1Lw",
    "outputId": "a71bfdd1-ebbf-44cf-ad1b-9ec992e2fcd7",
    "papermill": {
     "duration": null,
     "end_time": null,
     "exception": null,
     "start_time": null,
     "status": "pending"
    },
    "tags": []
   },
   "outputs": [],
   "source": [
    "dftrain['class'].value_counts().plot(kind='barh')"
   ]
  },
  {
   "cell_type": "code",
   "execution_count": null,
   "id": "a1e690bf",
   "metadata": {
    "id": "D4kPWqBYVDlj",
    "outputId": "c4f858de-73e4-41a3-8928-e97a0e0e08ad",
    "papermill": {
     "duration": null,
     "end_time": null,
     "exception": null,
     "start_time": null,
     "status": "pending"
    },
    "tags": []
   },
   "outputs": [],
   "source": [
    "pd.concat([dftrain, y_train], axis=1).groupby('sex').survived.mean().plot(kind='barh').set_xlabel('% survive')"
   ]
  },
  {
   "cell_type": "markdown",
   "id": "c590905b",
   "metadata": {
    "id": "l42qmk_bVHvD",
    "papermill": {
     "duration": null,
     "end_time": null,
     "exception": null,
     "start_time": null,
     "status": "pending"
    },
    "tags": []
   },
   "source": [
    "After analyzing this information, we should notice the following:\n",
    "- Most passengers are in their 20's or 30's \n",
    "- Most passengers are male\n",
    "- Most passengers are in \"Third\" class\n",
    "- Females have a much higher chance of survival\n",
    "\n"
   ]
  },
  {
   "cell_type": "markdown",
   "id": "5af9ea98",
   "metadata": {
    "id": "sIBZww6kOIAp",
    "papermill": {
     "duration": null,
     "end_time": null,
     "exception": null,
     "start_time": null,
     "status": "pending"
    },
    "tags": []
   },
   "source": [
    "### Training vs Testing Data\n",
    "You may have noticed that we loaded **two different datasets** above. This is because when we train models, we need two sets of data: **training and testing**. \n",
    "\n",
    "The **training** data is what we feed to the model so that it can develop and learn. It is usually a much larger size than the testing data.\n",
    "\n",
    "The **testing** data is what we use to evaulate the model and see how well it is performing. We must use a seperate set of data that the model has not been trained on to evaluate it. Can you think of why this is?\n",
    "\n",
    "Well, the point of our model is to be able to make predictions on NEW data, data that we have never seen before. If we simply test the model on the data that it has already seen we cannot measure its accuracy accuratly. We can't be sure that the model hasn't simply memorized our training data. This is why we need our testing and training data to be seperate.\n",
    "\n"
   ]
  },
  {
   "cell_type": "markdown",
   "id": "630476c1",
   "metadata": {
    "id": "Ar_cXv2jV8A3",
    "papermill": {
     "duration": null,
     "end_time": null,
     "exception": null,
     "start_time": null,
     "status": "pending"
    },
    "tags": []
   },
   "source": [
    "###Feature Columns\n",
    "In our dataset we have two different kinds of information: **Categorical and Numeric**\n",
    "\n",
    "Our **categorical data** is anything that is not numeric! For example, the sex column does not use numbers, it uses the words \"male\" and \"female\".\n",
    "\n",
    "Before we continue and create/train a model we must convet our categorical data into numeric data. We can do this by encoding each category with an integer (ex. male = 1, female = 2). \n",
    "\n",
    "Fortunately for us TensorFlow has some tools to help!"
   ]
  },
  {
   "cell_type": "code",
   "execution_count": null,
   "id": "d13e0502",
   "metadata": {
    "id": "-lcnwG0VXF5h",
    "outputId": "a4603a14-5903-4e75-a8cf-6a2ccca69946",
    "papermill": {
     "duration": null,
     "end_time": null,
     "exception": null,
     "start_time": null,
     "status": "pending"
    },
    "tags": []
   },
   "outputs": [],
   "source": [
    "CATEGORICAL_COLUMNS = ['sex', 'n_siblings_spouses', 'parch', 'class', 'deck',\n",
    "                       'embark_town', 'alone']\n",
    "NUMERIC_COLUMNS = ['age', 'fare']\n",
    "\n",
    "feature_columns = []\n",
    "for feature_name in CATEGORICAL_COLUMNS:\n",
    "  vocabulary = dftrain[feature_name].unique()  # gets a list of all unique values from given feature column\n",
    "  feature_columns.append(tf.feature_column.categorical_column_with_vocabulary_list(feature_name, vocabulary))\n",
    "\n",
    "for feature_name in NUMERIC_COLUMNS:\n",
    "  feature_columns.append(tf.feature_column.numeric_column(feature_name, dtype=tf.float32))\n",
    "\n",
    "print(feature_columns)"
   ]
  },
  {
   "cell_type": "markdown",
   "id": "df8ab84c",
   "metadata": {
    "id": "l-nazdZpXgAr",
    "papermill": {
     "duration": null,
     "end_time": null,
     "exception": null,
     "start_time": null,
     "status": "pending"
    },
    "tags": []
   },
   "source": [
    "Let's break this code down a little bit...\n",
    "\n",
    "Essentially what we are doing here is creating a list of features that are used in our dataset. \n",
    "\n",
    "The cryptic lines of code inside the ```append()``` create an object that our model can use to map string values like \"male\" and \"female\" to integers. This allows us to avoid manually having to encode our dataframes.\n",
    "\n",
    "*And here is some relevant documentation*\n",
    "\n",
    "https://www.tensorflow.org/api_docs/python/tf/feature_column/categorical_column_with_vocabulary_list?version=stable\n",
    "\n"
   ]
  },
  {
   "cell_type": "markdown",
   "id": "53acdd5e",
   "metadata": {
    "id": "UQlXWErlbhsG",
    "papermill": {
     "duration": null,
     "end_time": null,
     "exception": null,
     "start_time": null,
     "status": "pending"
    },
    "tags": []
   },
   "source": [
    "###The Training Process\n",
    "So, we are almost done preparing our dataset and I feel as though it's a good time to explain how our model is trained. Specifically, how input data is fed to our model. \n",
    "\n",
    "For this specific model data is going to be streamed into it in small batches of 32. This means we will not feed the entire dataset to our model at once, but simply small batches of entries. We will feed these batches to our model multiple times according to the number of **epochs**. \n",
    "\n",
    "An **epoch** is simply one stream of our entire dataset. The number of epochs we define is the amount of times our model will see the entire dataset. We use multiple epochs in hope that after seeing the same data multiple times the model will better determine how to estimate it.\n",
    "\n",
    "Ex. if we have 10 ephocs, our model will see the same dataset 10 times. \n",
    "\n",
    "Since we need to feed our data in batches and multiple times, we need to create something called an **input function**. The input function simply defines how our dataset will be converted into batches at each epoch.\n",
    "\n",
    "\n",
    "\n"
   ]
  },
  {
   "cell_type": "markdown",
   "id": "fb9bc46c",
   "metadata": {
    "id": "OO0mBu_WaVXp",
    "papermill": {
     "duration": null,
     "end_time": null,
     "exception": null,
     "start_time": null,
     "status": "pending"
    },
    "tags": []
   },
   "source": [
    "###Input Function\n",
    "The TensorFlow model we are going to use requires that the data we pass it comes in as a ```tf.data.Dataset``` object. This means we must create a *input function* that can convert our current pandas dataframe into that object. \n",
    "\n",
    "Below you'll see a seemingly complicated input function, this is straight from the TensorFlow documentation (https://www.tensorflow.org/tutorials/estimator/linear). I've commented as much as I can to make it understandble, but you may want to refer to the documentation for a detailed explination of each method."
   ]
  },
  {
   "cell_type": "code",
   "execution_count": null,
   "id": "239f88e6",
   "metadata": {
    "id": "I3qcbvOYbIwa",
    "papermill": {
     "duration": null,
     "end_time": null,
     "exception": null,
     "start_time": null,
     "status": "pending"
    },
    "tags": []
   },
   "outputs": [],
   "source": [
    "def make_input_fn(data_df, label_df, num_epochs=10, shuffle=True, batch_size=32):\n",
    "  def input_function():  # inner function, this will be returned\n",
    "    ds = tf.data.Dataset.from_tensor_slices((dict(data_df), label_df))  # create tf.data.Dataset object with data and its label\n",
    "    if shuffle:\n",
    "      ds = ds.shuffle(1000)  # randomize order of data\n",
    "    ds = ds.batch(batch_size).repeat(num_epochs)  # split dataset into batches of 32 and repeat process for number of epochs\n",
    "    return ds  # return a batch of the dataset\n",
    "  return input_function  # return a function object for use\n",
    "\n",
    "train_input_fn = make_input_fn(dftrain, y_train)  # here we will call the input_function that was returned to us to get a dataset object we can feed to the model\n",
    "eval_input_fn = make_input_fn(dfeval, y_eval, num_epochs=1, shuffle=False)\n"
   ]
  },
  {
   "cell_type": "markdown",
   "id": "deade431",
   "metadata": {
    "id": "FXqlPst9fpx4",
    "papermill": {
     "duration": null,
     "end_time": null,
     "exception": null,
     "start_time": null,
     "status": "pending"
    },
    "tags": []
   },
   "source": [
    "###Creating the Model\n",
    "In this tutorial we are going to use a linear estimator to utilize the linear regression algorithm. \n",
    "\n",
    "Creating one is pretty easy! Have a look below.\n",
    "\n"
   ]
  },
  {
   "cell_type": "code",
   "execution_count": null,
   "id": "6a8aa3b5",
   "metadata": {
    "id": "q1Wo8brFf663",
    "outputId": "73b78e55-1fc4-44b0-9fc6-33506a199db5",
    "papermill": {
     "duration": null,
     "end_time": null,
     "exception": null,
     "start_time": null,
     "status": "pending"
    },
    "tags": []
   },
   "outputs": [],
   "source": [
    "linear_est = tf.estimator.LinearClassifier(feature_columns=feature_columns)\n",
    "# We create a linear estimtor by passing the feature columns we created earlier"
   ]
  },
  {
   "cell_type": "markdown",
   "id": "4ee7fe19",
   "metadata": {
    "id": "K5GPkW_CgDFy",
    "papermill": {
     "duration": null,
     "end_time": null,
     "exception": null,
     "start_time": null,
     "status": "pending"
    },
    "tags": []
   },
   "source": [
    "###Training the Model\n",
    "Training the model is as easy as passing the input functions that we created earlier."
   ]
  },
  {
   "cell_type": "code",
   "execution_count": null,
   "id": "c8c150a8",
   "metadata": {
    "id": "J11OJrlZgPhb",
    "outputId": "cd3c7099-fdde-45aa-b57b-f1c8d1d02024",
    "papermill": {
     "duration": null,
     "end_time": null,
     "exception": null,
     "start_time": null,
     "status": "pending"
    },
    "tags": []
   },
   "outputs": [],
   "source": [
    "linear_est.train(train_input_fn)  # train\n",
    "result = linear_est.evaluate(eval_input_fn)  # get model metrics/stats by testing on tetsing data\n",
    "\n",
    "clear_output()  # clears consoke output\n",
    "print(result['accuracy'])  # the result variable is simply a dict of stats about our model"
   ]
  },
  {
   "cell_type": "markdown",
   "id": "323b5ce5",
   "metadata": {
    "id": "LisxO81tgi1n",
    "papermill": {
     "duration": null,
     "end_time": null,
     "exception": null,
     "start_time": null,
     "status": "pending"
    },
    "tags": []
   },
   "source": [
    "And we now we have a model with a 74% accuracy (this will change each time)! Not crazy impressive but decent for our first try.\n",
    "\n",
    "Now let's see how we can actually use this model to make predicitons.\n",
    "\n",
    "We can use the ```.predict()``` method to get survival probabilities from the model. This method will return a list of dicts that store a predicition for each of the entries in our testing data set. Below we've used some pandas magic to plot a nice graph of the predictions.\n",
    "\n",
    "As you can see the survival rate is not very high :/"
   ]
  },
  {
   "cell_type": "code",
   "execution_count": null,
   "id": "9ac9b371",
   "metadata": {
    "id": "JQz0Lj60hjLI",
    "outputId": "eec262fd-e206-46b6-d8d7-7c9067546f16",
    "papermill": {
     "duration": null,
     "end_time": null,
     "exception": null,
     "start_time": null,
     "status": "pending"
    },
    "tags": []
   },
   "outputs": [],
   "source": [
    "pred_dicts = list(linear_est.predict(eval_input_fn))\n",
    "probs = pd.Series([pred['probabilities'][1] for pred in pred_dicts])\n",
    "\n",
    "probs.plot(kind='hist', bins=20, title='predicted probabilities')"
   ]
  },
  {
   "cell_type": "markdown",
   "id": "505b637d",
   "metadata": {
    "id": "CN_r0Vn8VOf5",
    "papermill": {
     "duration": null,
     "end_time": null,
     "exception": null,
     "start_time": null,
     "status": "pending"
    },
    "tags": []
   },
   "source": [
    "That's it for linear regression! Now onto classification."
   ]
  },
  {
   "cell_type": "markdown",
   "id": "325b4bfa",
   "metadata": {
    "id": "hG9gxhAqVTBT",
    "papermill": {
     "duration": null,
     "end_time": null,
     "exception": null,
     "start_time": null,
     "status": "pending"
    },
    "tags": []
   },
   "source": [
    "##Classification\n",
    "Now that we've covered linear regression it is time to talk about classification. Where regression was used to predict a numeric value, classification is used to seperate data points into classes of different labels. In this example we will use a TensorFlow estimator to classify flowers.\n",
    "\n",
    "Since we've touched on how estimators work earlier, I'll go a bit quicker through this example. \n",
    "\n",
    "This section is based on the following guide from the TensorFlow website.\n",
    "https://www.tensorflow.org/tutorials/estimator/premade\n",
    "\n",
    "\n"
   ]
  },
  {
   "cell_type": "markdown",
   "id": "d1abc83b",
   "metadata": {
    "id": "iWk2Kb7Sdk-T",
    "papermill": {
     "duration": null,
     "end_time": null,
     "exception": null,
     "start_time": null,
     "status": "pending"
    },
    "tags": []
   },
   "source": [
    "###Imports and Setup"
   ]
  },
  {
   "cell_type": "code",
   "execution_count": null,
   "id": "2b1e2afc",
   "metadata": {
    "id": "eH4_xJaD605_",
    "outputId": "cbe50069-f9c1-489e-ebdb-e08af4d7cea5",
    "papermill": {
     "duration": null,
     "end_time": null,
     "exception": null,
     "start_time": null,
     "status": "pending"
    },
    "tags": []
   },
   "outputs": [],
   "source": [
    "%tensorflow_version 2.x  # this line is not required unless you are in a notebook"
   ]
  },
  {
   "cell_type": "code",
   "execution_count": null,
   "id": "1571a4cd",
   "metadata": {
    "id": "TMiLc6LPdoPm",
    "papermill": {
     "duration": null,
     "end_time": null,
     "exception": null,
     "start_time": null,
     "status": "pending"
    },
    "tags": []
   },
   "outputs": [],
   "source": [
    "from __future__ import absolute_import, division, print_function, unicode_literals\n",
    "\n",
    "\n",
    "import tensorflow as tf\n",
    "\n",
    "import pandas as pd"
   ]
  },
  {
   "cell_type": "markdown",
   "id": "427f5a8d",
   "metadata": {
    "id": "9zLNzmkGds1U",
    "papermill": {
     "duration": null,
     "end_time": null,
     "exception": null,
     "start_time": null,
     "status": "pending"
    },
    "tags": []
   },
   "source": [
    "###Dataset\n",
    "This specific dataset seperates flowers into 3 different classes of species.\n",
    "- Setosa\n",
    "- Versicolor\n",
    "- Virginica\n",
    "\n",
    "The information about each flower is the following.\n",
    "- sepal length\n",
    "- sepal width\n",
    "- petal length\n",
    "- petal width"
   ]
  },
  {
   "cell_type": "code",
   "execution_count": null,
   "id": "d02c09f8",
   "metadata": {
    "id": "puOQDTNKeCRC",
    "papermill": {
     "duration": null,
     "end_time": null,
     "exception": null,
     "start_time": null,
     "status": "pending"
    },
    "tags": []
   },
   "outputs": [],
   "source": [
    "CSV_COLUMN_NAMES = ['SepalLength', 'SepalWidth', 'PetalLength', 'PetalWidth', 'Species']\n",
    "SPECIES = ['Setosa', 'Versicolor', 'Virginica']\n",
    "# Lets define some constants to help us later on"
   ]
  },
  {
   "cell_type": "code",
   "execution_count": null,
   "id": "863ef983",
   "metadata": {
    "id": "oMW41Wd9eLIo",
    "outputId": "4950908e-de50-4839-a569-a1f5acf015f8",
    "papermill": {
     "duration": null,
     "end_time": null,
     "exception": null,
     "start_time": null,
     "status": "pending"
    },
    "tags": []
   },
   "outputs": [],
   "source": [
    "train_path = tf.keras.utils.get_file(\n",
    "    \"iris_training.csv\", \"https://storage.googleapis.com/download.tensorflow.org/data/iris_training.csv\")\n",
    "test_path = tf.keras.utils.get_file(\n",
    "    \"iris_test.csv\", \"https://storage.googleapis.com/download.tensorflow.org/data/iris_test.csv\")\n",
    "\n",
    "train = pd.read_csv(train_path, names=CSV_COLUMN_NAMES, header=0)\n",
    "test = pd.read_csv(test_path, names=CSV_COLUMN_NAMES, header=0)\n",
    "# Here we use keras (a module inside of TensorFlow) to grab our datasets and read them into a pandas dataframe"
   ]
  },
  {
   "cell_type": "markdown",
   "id": "19ef0529",
   "metadata": {
    "id": "4aHRWY47ecdr",
    "papermill": {
     "duration": null,
     "end_time": null,
     "exception": null,
     "start_time": null,
     "status": "pending"
    },
    "tags": []
   },
   "source": [
    "Let's have a look at our data."
   ]
  },
  {
   "cell_type": "code",
   "execution_count": null,
   "id": "2f22ca6f",
   "metadata": {
    "id": "BQ9uo6KkegBH",
    "outputId": "ed4b9d06-06da-4014-f04d-95bc35dc64ba",
    "papermill": {
     "duration": null,
     "end_time": null,
     "exception": null,
     "start_time": null,
     "status": "pending"
    },
    "tags": []
   },
   "outputs": [],
   "source": [
    "train.head()"
   ]
  },
  {
   "cell_type": "markdown",
   "id": "22c11397",
   "metadata": {
    "id": "7PzWyoE9eu8H",
    "papermill": {
     "duration": null,
     "end_time": null,
     "exception": null,
     "start_time": null,
     "status": "pending"
    },
    "tags": []
   },
   "source": [
    "Now we can pop the species column off and use that as our label."
   ]
  },
  {
   "cell_type": "code",
   "execution_count": null,
   "id": "9ac064e3",
   "metadata": {
    "id": "fP_nlslke4U8",
    "outputId": "560a0559-ebf8-43a8-bca7-4fa25d9c06ce",
    "papermill": {
     "duration": null,
     "end_time": null,
     "exception": null,
     "start_time": null,
     "status": "pending"
    },
    "tags": []
   },
   "outputs": [],
   "source": [
    "train_y = train.pop('Species')\n",
    "test_y = test.pop('Species')\n",
    "train.head() # the species column is now gone"
   ]
  },
  {
   "cell_type": "code",
   "execution_count": null,
   "id": "ddf98069",
   "metadata": {
    "id": "3oVw2zRkfTXq",
    "outputId": "a25c814d-63e4-40da-9ac9-6efc326164b2",
    "papermill": {
     "duration": null,
     "end_time": null,
     "exception": null,
     "start_time": null,
     "status": "pending"
    },
    "tags": []
   },
   "outputs": [],
   "source": [
    "train.shape  # we have 120 entires with 4 features"
   ]
  },
  {
   "cell_type": "markdown",
   "id": "03ca3181",
   "metadata": {
    "id": "V6ZWVZs8fg-H",
    "papermill": {
     "duration": null,
     "end_time": null,
     "exception": null,
     "start_time": null,
     "status": "pending"
    },
    "tags": []
   },
   "source": [
    "###Input Function\n",
    "Remember that nasty input function we created earlier. Well we need to make another one here! Fortunatly for us this one is a little easier to digest."
   ]
  },
  {
   "cell_type": "code",
   "execution_count": null,
   "id": "492407db",
   "metadata": {
    "id": "K-NQRLv_fyhg",
    "papermill": {
     "duration": null,
     "end_time": null,
     "exception": null,
     "start_time": null,
     "status": "pending"
    },
    "tags": []
   },
   "outputs": [],
   "source": [
    "def input_fn(features, labels, training=True, batch_size=256):\n",
    "    # Convert the inputs to a Dataset.\n",
    "    dataset = tf.data.Dataset.from_tensor_slices((dict(features), labels))\n",
    "\n",
    "    # Shuffle and repeat if you are in training mode.\n",
    "    if training:\n",
    "        dataset = dataset.shuffle(1000).repeat()\n",
    "    \n",
    "    return dataset.batch(batch_size)\n"
   ]
  },
  {
   "cell_type": "markdown",
   "id": "91ced227",
   "metadata": {
    "id": "FL--3OAnf4mO",
    "papermill": {
     "duration": null,
     "end_time": null,
     "exception": null,
     "start_time": null,
     "status": "pending"
    },
    "tags": []
   },
   "source": [
    "###Feature Columns\n",
    "And you didn't think we forgot about the feature columns, did you?\n",
    "\n"
   ]
  },
  {
   "cell_type": "code",
   "execution_count": null,
   "id": "4c5cfc9d",
   "metadata": {
    "id": "nErIJJbggQ5w",
    "outputId": "837852b1-97a0-4965-88fc-50883dfb558c",
    "papermill": {
     "duration": null,
     "end_time": null,
     "exception": null,
     "start_time": null,
     "status": "pending"
    },
    "tags": []
   },
   "outputs": [],
   "source": [
    "# Feature columns describe how to use the input.\n",
    "my_feature_columns = []\n",
    "for key in train.keys():\n",
    "    my_feature_columns.append(tf.feature_column.numeric_column(key=key))\n",
    "print(my_feature_columns)"
   ]
  },
  {
   "cell_type": "markdown",
   "id": "532ac4c8",
   "metadata": {
    "id": "5kl1Wr_Xgpmv",
    "papermill": {
     "duration": null,
     "end_time": null,
     "exception": null,
     "start_time": null,
     "status": "pending"
    },
    "tags": []
   },
   "source": [
    "###Building the Model\n",
    "And now we are ready to choose a model. For classification tasks there are variety of different estimators/models that we can pick from. Some options are listed below.\n",
    "- ```DNNClassifier``` (Deep Neural Network)\n",
    "- ```LinearClassifier```\n",
    "\n",
    "We can choose either model but the DNN seems to be the best choice. This is because we may not be able to find a linear coorespondence in our data. \n",
    "\n",
    "So let's build a model!"
   ]
  },
  {
   "cell_type": "code",
   "execution_count": null,
   "id": "41747b0a",
   "metadata": {
    "id": "n7YVQowgiDak",
    "outputId": "bd9457f3-7d30-456c-aa8b-3d160c0f751f",
    "papermill": {
     "duration": null,
     "end_time": null,
     "exception": null,
     "start_time": null,
     "status": "pending"
    },
    "tags": []
   },
   "outputs": [],
   "source": [
    "# Build a DNN with 2 hidden layers with 30 and 10 hidden nodes each.\n",
    "classifier = tf.estimator.DNNClassifier(\n",
    "    feature_columns=my_feature_columns,\n",
    "    # Two hidden layers of 30 and 10 nodes respectively.\n",
    "    hidden_units=[30, 10],\n",
    "    # The model must choose between 3 classes.\n",
    "    n_classes=3)"
   ]
  },
  {
   "cell_type": "markdown",
   "id": "f5d1a435",
   "metadata": {
    "id": "jQ_SJAMuiF6p",
    "papermill": {
     "duration": null,
     "end_time": null,
     "exception": null,
     "start_time": null,
     "status": "pending"
    },
    "tags": []
   },
   "source": [
    "What we've just done is created a deep neural network that has two hidden layers. These layers have 30 and 10 neurons respectively. This is the number of neurons the TensorFlow official tutorial uses so we'll stick with it. However, it is worth mentioning that the number of hidden neurons is an arbitrary number and many experiments and tests are usually done to determine the best choice for these values. Try playing around with the number of hidden neurons and see if your results change."
   ]
  },
  {
   "cell_type": "markdown",
   "id": "238f2a75",
   "metadata": {
    "id": "NBHnWYKTjV5D",
    "papermill": {
     "duration": null,
     "end_time": null,
     "exception": null,
     "start_time": null,
     "status": "pending"
    },
    "tags": []
   },
   "source": [
    "###Training\n",
    "Now it's time to train the model!"
   ]
  },
  {
   "cell_type": "code",
   "execution_count": null,
   "id": "017ec389",
   "metadata": {
    "id": "INug63pCjaOw",
    "outputId": "3eb6211c-9fd1-4748-8e2e-31e64b4ec698",
    "papermill": {
     "duration": null,
     "end_time": null,
     "exception": null,
     "start_time": null,
     "status": "pending"
    },
    "tags": []
   },
   "outputs": [],
   "source": [
    "classifier.train(\n",
    "    input_fn=lambda: input_fn(train, train_y, training=True),\n",
    "    steps=5000)\n",
    "# We include a lambda to avoid creating an inner function previously"
   ]
  },
  {
   "cell_type": "markdown",
   "id": "b133fc0b",
   "metadata": {
    "id": "57oNBLV1j0wc",
    "papermill": {
     "duration": null,
     "end_time": null,
     "exception": null,
     "start_time": null,
     "status": "pending"
    },
    "tags": []
   },
   "source": [
    "The only thing to explain here is the **steps** argument. This simply tells the classifier to run for 5000 steps. Try modifiying this and seeing if your results change. Keep in mind that more is not always better."
   ]
  },
  {
   "cell_type": "markdown",
   "id": "1958bd02",
   "metadata": {
    "id": "5suI1lmskE7p",
    "papermill": {
     "duration": null,
     "end_time": null,
     "exception": null,
     "start_time": null,
     "status": "pending"
    },
    "tags": []
   },
   "source": [
    "###Evaluation\n",
    "Now let's see how this trained model does!"
   ]
  },
  {
   "cell_type": "code",
   "execution_count": null,
   "id": "46cbf9e7",
   "metadata": {
    "id": "23rIrgbxkJUO",
    "outputId": "24767659-81cb-436f-a3c5-3fb19fcf53b2",
    "papermill": {
     "duration": null,
     "end_time": null,
     "exception": null,
     "start_time": null,
     "status": "pending"
    },
    "tags": []
   },
   "outputs": [],
   "source": [
    "eval_result = classifier.evaluate(\n",
    "    input_fn=lambda: input_fn(test, test_y, training=False))\n",
    "\n",
    "print('\\nTest set accuracy: {accuracy:0.3f}\\n'.format(**eval_result))"
   ]
  },
  {
   "cell_type": "markdown",
   "id": "d8d0a3ea",
   "metadata": {
    "id": "4v1ZMe7jkXdp",
    "papermill": {
     "duration": null,
     "end_time": null,
     "exception": null,
     "start_time": null,
     "status": "pending"
    },
    "tags": []
   },
   "source": [
    "Notice this time we didn't specify the number of steps. This is because during evaluation the model will only look at the testing data one time."
   ]
  },
  {
   "cell_type": "markdown",
   "id": "e070c677",
   "metadata": {
    "id": "464HkZ6lknua",
    "papermill": {
     "duration": null,
     "end_time": null,
     "exception": null,
     "start_time": null,
     "status": "pending"
    },
    "tags": []
   },
   "source": [
    "### Predictions\n",
    "Now that we have a trained model it's time to use it to make predictions. I've written a little script below that allows you to type the features of a flower and see a prediction for its class."
   ]
  },
  {
   "cell_type": "code",
   "execution_count": null,
   "id": "2815904d",
   "metadata": {
    "id": "bQRLq4M1k1jm",
    "outputId": "f720852e-66e9-448e-bddf-ce33ce98cc61",
    "papermill": {
     "duration": null,
     "end_time": null,
     "exception": null,
     "start_time": null,
     "status": "pending"
    },
    "tags": []
   },
   "outputs": [],
   "source": [
    "def input_fn(features, batch_size=256):\n",
    "    # Convert the inputs to a Dataset without labels.\n",
    "    return tf.data.Dataset.from_tensor_slices(dict(features)).batch(batch_size)\n",
    "\n",
    "features = ['SepalLength', 'SepalWidth', 'PetalLength', 'PetalWidth']\n",
    "predict = {}\n",
    "\n",
    "print(\"Please type numeric values as prompted.\")\n",
    "for feature in features:\n",
    "  valid = True\n",
    "  while valid: \n",
    "    val = input(feature + \": \")\n",
    "    if not val.isdigit(): valid = False\n",
    "\n",
    "  predict[feature] = [float(val)]\n",
    "\n",
    "predictions = classifier.predict(input_fn=lambda: input_fn(predict))\n",
    "for pred_dict in predictions:\n",
    "    class_id = pred_dict['class_ids'][0]\n",
    "    probability = pred_dict['probabilities'][class_id]\n",
    "\n",
    "    print('Prediction is \"{}\" ({:.1f}%)'.format(\n",
    "        SPECIES[class_id], 100 * probability))\n"
   ]
  },
  {
   "cell_type": "code",
   "execution_count": null,
   "id": "1db36bc6",
   "metadata": {
    "id": "-tRxhpmSr1FH",
    "papermill": {
     "duration": null,
     "end_time": null,
     "exception": null,
     "start_time": null,
     "status": "pending"
    },
    "tags": []
   },
   "outputs": [],
   "source": [
    "# Here is some example input and expected classes you can try above\n",
    "expected = ['Setosa', 'Versicolor', 'Virginica']\n",
    "predict_x = {\n",
    "    'SepalLength': [5.1, 5.9, 6.9],\n",
    "    'SepalWidth': [3.3, 3.0, 3.1],\n",
    "    'PetalLength': [1.7, 4.2, 5.4],\n",
    "    'PetalWidth': [0.5, 1.5, 2.1],\n",
    "}"
   ]
  },
  {
   "cell_type": "markdown",
   "id": "928cbc2d",
   "metadata": {
    "id": "ujwvc6ASsHID",
    "papermill": {
     "duration": null,
     "end_time": null,
     "exception": null,
     "start_time": null,
     "status": "pending"
    },
    "tags": []
   },
   "source": [
    "And that's pretty much it for classification! "
   ]
  },
  {
   "cell_type": "markdown",
   "id": "091dc22c",
   "metadata": {
    "id": "d0dfaT4esRh3",
    "papermill": {
     "duration": null,
     "end_time": null,
     "exception": null,
     "start_time": null,
     "status": "pending"
    },
    "tags": []
   },
   "source": [
    "##Clustering\n",
    "Now that we've covered regression and classification it's time to talk about clustering data! \n",
    "\n",
    "Clustering is a Machine Learning technique that involves the grouping of data points. In theory, data points that are in the same group should have similar properties and/or features, while data points in different groups should have highly dissimilar properties and/or features. (https://towardsdatascience.com/the-5-clustering-algorithms-data-scientists-need-to-know-a36d136ef68)\n",
    "\n",
    "Unfortunalty there are issues with the current version of TensorFlow and the implementation for KMeans. This means we cannot use KMeans without writing the algorithm from scratch. We aren't quite at that level yet, so we'll just explain the basics of clustering for now.\n",
    "\n",
    "####Basic Algorithm for K-Means.\n",
    "- Step 1: Randomly pick K points to place K centroids\n",
    "- Step 2: Assign all the data points to the centroids by distance. The closest centroid to a point is the one it is assigned to.\n",
    "- Step 3: Average all the points belonging to each centroid to find the middle of those clusters (center of mass). Place the corresponding centroids into that position.\n",
    "- Step 4: Reassign every point once again to the closest centroid.\n",
    "- Step 5: Repeat steps 3-4 until no point changes which centroid it belongs to.\n",
    "\n",
    "*Please refer to the video for an explanation of KMeans clustering.*"
   ]
  },
  {
   "cell_type": "markdown",
   "id": "9a664419",
   "metadata": {
    "id": "sQ9iJrSbBTZB",
    "papermill": {
     "duration": null,
     "end_time": null,
     "exception": null,
     "start_time": null,
     "status": "pending"
    },
    "tags": []
   },
   "source": [
    "##Hidden Markov Models\n",
    "\n",
    "\"The Hidden Markov Model is a finite set of states, each of which is associated with a (generally multidimensional) probability distribution []. Transitions among the states are governed by a set of probabilities called transition probabilities.\" (http://jedlik.phy.bme.hu/~gerjanos/HMM/node4.html)\n",
    "\n",
    "A hidden markov model works with probabilities to predict future events or states. In this section we will learn how to create a hidden markov model that can predict the weather.\n",
    "\n",
    "*This section is based on the following TensorFlow tutorial.* https://www.tensorflow.org/probability/api_docs/python/tfp/distributions/HiddenMarkovModel"
   ]
  },
  {
   "cell_type": "markdown",
   "id": "445b5dd5",
   "metadata": {
    "id": "RKJSFk4NP0eq",
    "papermill": {
     "duration": null,
     "end_time": null,
     "exception": null,
     "start_time": null,
     "status": "pending"
    },
    "tags": []
   },
   "source": [
    "###Data\n",
    "Let's start by discussing the type of data we use when we work with a hidden markov model. \n",
    "\n",
    "In the previous sections we worked with large datasets of 100's of different entries. For a markov model we are only interested in probability distributions that have to do with states. \n",
    "\n",
    "We can find these probabilities from large datasets or may already have these values. We'll run through an example in a second that should clear some things up, but let's discuss the components of a markov model.\n",
    "\n",
    "**States:** In each markov model we have a finite set of states. These states could be something like \"warm\" and \"cold\" or \"high\" and \"low\" or even \"red\", \"green\" and \"blue\". These states are \"hidden\" within the model, which means we do not direcly observe them.\n",
    "\n",
    "**Observations:** Each state has a particular outcome or observation associated with it based on a probability distribution. An example of this is the following: *On a hot day Tim has a 80% chance of being happy and a 20% chance of being sad.*\n",
    "\n",
    "**Transitions:** Each state will have a probability defining the likelyhood of transitioning to a different state. An example is the following: *a cold day has a 30% chance of being followed by a hot day and a 70% chance of being follwed by another cold day.*\n",
    "\n",
    "To create a hidden markov model we need.\n",
    "- States\n",
    "- Observation Distribution\n",
    "- Transition Distribution\n",
    "\n",
    "For our purpose we will assume we already have this information available as we attempt to predict the weather on a given day."
   ]
  },
  {
   "cell_type": "markdown",
   "id": "cbc5d7f9",
   "metadata": {
    "id": "iK2QbOzr6jNJ",
    "papermill": {
     "duration": null,
     "end_time": null,
     "exception": null,
     "start_time": null,
     "status": "pending"
    },
    "tags": []
   },
   "source": [
    "###Imports and Setup"
   ]
  },
  {
   "cell_type": "code",
   "execution_count": null,
   "id": "6e3596dd",
   "metadata": {
    "id": "Suf1v8kJ6niA",
    "outputId": "f12c7178-cc43-42cd-92c3-8084d5d61637",
    "papermill": {
     "duration": null,
     "end_time": null,
     "exception": null,
     "start_time": null,
     "status": "pending"
    },
    "tags": []
   },
   "outputs": [],
   "source": [
    "%tensorflow_version 2.x  # this line is not required unless you are in a notebook"
   ]
  },
  {
   "cell_type": "markdown",
   "id": "b845e3c8",
   "metadata": {
    "id": "GN_Fkrx30xbb",
    "papermill": {
     "duration": null,
     "end_time": null,
     "exception": null,
     "start_time": null,
     "status": "pending"
    },
    "tags": []
   },
   "source": [
    "Due to a version mismatch with tensorflow v2 and tensorflow_probability we need to install the most recent version of tensorflow_probability (see below)."
   ]
  },
  {
   "cell_type": "code",
   "execution_count": null,
   "id": "043b8407",
   "metadata": {
    "id": "kawrMHKGBWyS",
    "outputId": "ad6d30ff-e53a-4776-825d-c18e2b0728cc",
    "papermill": {
     "duration": null,
     "end_time": null,
     "exception": null,
     "start_time": null,
     "status": "pending"
    },
    "tags": []
   },
   "outputs": [],
   "source": [
    "!pip install tensorflow_probability==0.8.0rc0 --user --upgrade"
   ]
  },
  {
   "cell_type": "code",
   "execution_count": null,
   "id": "201c0ea2",
   "metadata": {
    "id": "mEIk7FYD6lcF",
    "papermill": {
     "duration": null,
     "end_time": null,
     "exception": null,
     "start_time": null,
     "status": "pending"
    },
    "tags": []
   },
   "outputs": [],
   "source": [
    "import tensorflow_probability as tfp  # We are using a different module from tensorflow this time\n",
    "import tensorflow as tf"
   ]
  },
  {
   "cell_type": "markdown",
   "id": "821b76f3",
   "metadata": {
    "id": "ssOcn-nIOCcV",
    "papermill": {
     "duration": null,
     "end_time": null,
     "exception": null,
     "start_time": null,
     "status": "pending"
    },
    "tags": []
   },
   "source": [
    "###Weather Model\n",
    "Taken direclty from the TensorFlow documentation (https://www.tensorflow.org/probability/api_docs/python/tfp/distributions/HiddenMarkovModel). \n",
    "\n",
    "We will model a simple weather system and try to predict the temperature on each day given the following information.\n",
    "1. Cold days are encoded by a 0 and hot days are encoded by a 1.\n",
    "2. The first day in our sequence has an 80% chance of being cold.\n",
    "3. A cold day has a 30% chance of being followed by a hot day.\n",
    "4. A hot day has a 20% chance of being followed by a cold day.\n",
    "5. On each day the temperature is\n",
    " normally distributed with mean and standard deviation 0 and 5 on\n",
    " a cold day and mean and standard deviation 15 and 10 on a hot day.\n",
    "\n",
    "If you're unfamiliar with **standard deviation** it can be put simply as the range of expected values. \n",
    "\n",
    "In this example, on a hot day the average temperature is 15 and ranges from 5 to 25.\n",
    "\n",
    "To model this in TensorFlow we will do the following.\n"
   ]
  },
  {
   "cell_type": "code",
   "execution_count": null,
   "id": "9af2683d",
   "metadata": {
    "id": "4LBLEJp4YlIf",
    "papermill": {
     "duration": null,
     "end_time": null,
     "exception": null,
     "start_time": null,
     "status": "pending"
    },
    "tags": []
   },
   "outputs": [],
   "source": [
    "tfd = tfp.distributions  # making a shortcut for later on\n",
    "initial_distribution = tfd.Categorical(probs=[0.2, 0.8])  # Refer to point 2 above\n",
    "transition_distribution = tfd.Categorical(probs=[[0.5, 0.5],\n",
    "                                                 [0.2, 0.8]])  # refer to points 3 and 4 above\n",
    "observation_distribution = tfd.Normal(loc=[0., 15.], scale=[5., 10.])  # refer to point 5 above\n",
    "\n",
    "# the loc argument represents the mean and the scale is the standard devitation"
   ]
  },
  {
   "cell_type": "markdown",
   "id": "4abf430f",
   "metadata": {
    "id": "-XtTg0l04mqc",
    "papermill": {
     "duration": null,
     "end_time": null,
     "exception": null,
     "start_time": null,
     "status": "pending"
    },
    "tags": []
   },
   "source": [
    "We've now created distribution variables to model our system and it's time to create the hidden markov model."
   ]
  },
  {
   "cell_type": "code",
   "execution_count": null,
   "id": "6534c3ba",
   "metadata": {
    "id": "P4M6cZww4mZk",
    "papermill": {
     "duration": null,
     "end_time": null,
     "exception": null,
     "start_time": null,
     "status": "pending"
    },
    "tags": []
   },
   "outputs": [],
   "source": [
    "model = tfd.HiddenMarkovModel(\n",
    "    initial_distribution=initial_distribution,\n",
    "    transition_distribution=transition_distribution,\n",
    "    observation_distribution=observation_distribution,\n",
    "    num_steps=7)"
   ]
  },
  {
   "cell_type": "markdown",
   "id": "ba88a23b",
   "metadata": {
    "id": "DJ0XIA2M5gqD",
    "papermill": {
     "duration": null,
     "end_time": null,
     "exception": null,
     "start_time": null,
     "status": "pending"
    },
    "tags": []
   },
   "source": [
    "The number of steps represents the number of days that we would like to predict information for. In this case we've chosen 7, an entire week.\n",
    "\n",
    "To get the **expected temperatures** on each day we can do the following."
   ]
  },
  {
   "cell_type": "code",
   "execution_count": null,
   "id": "fc9dfe92",
   "metadata": {
    "id": "plVVG4fi55Jv",
    "outputId": "cef2d0a3-0edf-4226-ad65-43245933109f",
    "papermill": {
     "duration": null,
     "end_time": null,
     "exception": null,
     "start_time": null,
     "status": "pending"
    },
    "tags": []
   },
   "outputs": [],
   "source": [
    "mean = model.mean()\n",
    "\n",
    "# due to the way TensorFlow works on a lower level we need to evaluate part of the graph\n",
    "# from within a session to see the value of this tensor\n",
    "\n",
    "# in the new version of tensorflow we need to use tf.compat.v1.Session() rather than just tf.Session()\n",
    "with tf.compat.v1.Session() as sess:  \n",
    "  print(mean.numpy())"
   ]
  },
  {
   "cell_type": "markdown",
   "id": "4b67a656",
   "metadata": {
    "id": "RzzUGR12AkiF",
    "papermill": {
     "duration": null,
     "end_time": null,
     "exception": null,
     "start_time": null,
     "status": "pending"
    },
    "tags": []
   },
   "source": [
    "##Conclusion\n",
    "So that's it for the core learning algorithms in TensorFlow. Hopefully you've learned about a few interesting tools that are easy to use! To practice I'd encourage you to try out some of these algorithms on different datasets."
   ]
  },
  {
   "cell_type": "markdown",
   "id": "645e9555",
   "metadata": {
    "id": "IEeIRxlbx0wY",
    "papermill": {
     "duration": null,
     "end_time": null,
     "exception": null,
     "start_time": null,
     "status": "pending"
    },
    "tags": []
   },
   "source": [
    "##Sources\n",
    "\n",
    "1. Chen, James. “Line Of Best Fit.” Investopedia, Investopedia, 29 Jan. 2020, www.investopedia.com/terms/l/line-of-best-fit.asp.\n",
    "2. “Tf.feature_column.categorical_column_with_vocabulary_list.” TensorFlow, www.tensorflow.org/api_docs/python/tf/feature_column/categorical_column_with_vocabulary_list?version=stable.\n",
    "3. “Build a Linear Model with Estimators &nbsp;: &nbsp; TensorFlow Core.” TensorFlow, www.tensorflow.org/tutorials/estimator/linear.\n",
    "4. Staff, EasyBib. “The Free Automatic Bibliography Composer.” EasyBib, Chegg, 1 Jan. 2020, www.easybib.com/project/style/mla8?id=1582473656_5e52a1b8c84d52.80301186.\n",
    "5. Seif, George. “The 5 Clustering Algorithms Data Scientists Need to Know.” Medium, Towards Data Science, 14 Sept. 2019, https://towardsdatascience.com/the-5-clustering-algorithms-data-scientists-need-to-know-a36d136ef68.\n",
    "6. Definition of Hidden Markov Model, http://jedlik.phy.bme.hu/~gerjanos/HMM/node4.html.\n",
    "7. “Tfp.distributions.HiddenMarkovModel &nbsp;: &nbsp; TensorFlow Probability.” TensorFlow, www.tensorflow.org/probability/api_docs/python/tfp/distributions/HiddenMarkovModel."
   ]
  }
 ],
 "metadata": {
  "kernelspec": {
   "display_name": "Python 3",
   "language": "python",
   "name": "python3"
  },
  "language_info": {
   "codemirror_mode": {
    "name": "ipython",
    "version": 3
   },
   "file_extension": ".py",
   "mimetype": "text/x-python",
   "name": "python",
   "nbconvert_exporter": "python",
   "pygments_lexer": "ipython3",
   "version": "3.7.12"
  },
  "papermill": {
   "default_parameters": {},
   "duration": 23.425117,
   "end_time": "2022-06-26T16:07:51.151366",
   "environment_variables": {},
   "exception": true,
   "input_path": "__notebook__.ipynb",
   "output_path": "__notebook__.ipynb",
   "parameters": {},
   "start_time": "2022-06-26T16:07:27.726249",
   "version": "2.3.4"
  }
 },
 "nbformat": 4,
 "nbformat_minor": 5
}
