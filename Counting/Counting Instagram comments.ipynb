{
 "cells": [
  {
   "cell_type": "markdown",
   "id": "e1bc77b4",
   "metadata": {},
   "source": [
    "# Count Instagram comments:\n",
    "1. Copy & past comments in a txt file and save it\n",
    "2. with bellow code you can count your world: (or you can just search in your txt file by Ctrl+F) and see how many are your search)!"
   ]
  },
  {
   "cell_type": "code",
   "execution_count": 28,
   "id": "da97f5d6",
   "metadata": {},
   "outputs": [
    {
     "name": "stdout",
     "output_type": "stream",
     "text": [
      "Occurrences of عالی : 4\n"
     ]
    }
   ],
   "source": [
    "# Open the text file in read mode\n",
    "file_path = \"/home/melanee/COUNTING.txt\"  # Replace with the actual path to your text file\n",
    "with open(file_path, \"r\") as file:\n",
    "    # Read the contents of the file\n",
    "    contents = file.read()\n",
    "    \n",
    "    # Specify the word you want to count\n",
    "    word_to_count = \" عالی\"\n",
    "    \n",
    "    # Count the occurrences of the word\n",
    "    count = contents.count(word_to_count)\n",
    "    \n",
    "    # Print the count\n",
    "    print(\"Occurrences of\", word_to_count, \":\", count)\n"
   ]
  },
  {
   "cell_type": "code",
   "execution_count": 33,
   "id": "d8f01914",
   "metadata": {},
   "outputs": [
    {
     "name": "stdout",
     "output_type": "stream",
     "text": [
      "4\n"
     ]
    }
   ],
   "source": [
    "#same as above\n",
    "file_path = \"/home/melanee/COUNTING.txt\"  \n",
    "\n",
    "file = open(file_path, \"r\")\n",
    "word_to_count = \"عالی\"\n",
    "print(file.read().count(word_to_count))"
   ]
  },
  {
   "cell_type": "code",
   "execution_count": null,
   "id": "eea74df0",
   "metadata": {},
   "outputs": [],
   "source": []
  }
 ],
 "metadata": {
  "kernelspec": {
   "display_name": "Python 3 (ipykernel)",
   "language": "python",
   "name": "python3"
  },
  "language_info": {
   "codemirror_mode": {
    "name": "ipython",
    "version": 3
   },
   "file_extension": ".py",
   "mimetype": "text/x-python",
   "name": "python",
   "nbconvert_exporter": "python",
   "pygments_lexer": "ipython3",
   "version": "3.10.6"
  },
  "toc": {
   "base_numbering": 1,
   "nav_menu": {},
   "number_sections": true,
   "sideBar": true,
   "skip_h1_title": false,
   "title_cell": "Table of Contents",
   "title_sidebar": "Contents",
   "toc_cell": false,
   "toc_position": {},
   "toc_section_display": true,
   "toc_window_display": false
  },
  "varInspector": {
   "cols": {
    "lenName": 16,
    "lenType": 16,
    "lenVar": 40
   },
   "kernels_config": {
    "python": {
     "delete_cmd_postfix": "",
     "delete_cmd_prefix": "del ",
     "library": "var_list.py",
     "varRefreshCmd": "print(var_dic_list())"
    },
    "r": {
     "delete_cmd_postfix": ") ",
     "delete_cmd_prefix": "rm(",
     "library": "var_list.r",
     "varRefreshCmd": "cat(var_dic_list()) "
    }
   },
   "types_to_exclude": [
    "module",
    "function",
    "builtin_function_or_method",
    "instance",
    "_Feature"
   ],
   "window_display": false
  }
 },
 "nbformat": 4,
 "nbformat_minor": 5
}
